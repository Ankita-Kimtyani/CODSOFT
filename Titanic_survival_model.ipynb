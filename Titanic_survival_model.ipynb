{
 "cells": [
  {
   "cell_type": "markdown",
   "id": "8deb4ed6-409b-42cf-8078-77eeae75ce98",
   "metadata": {},
   "source": [
    "importing liabraries"
   ]
  },
  {
   "cell_type": "code",
   "execution_count": 92,
   "id": "36ca0874-459a-4719-867b-0b993d1a8b95",
   "metadata": {},
   "outputs": [],
   "source": [
    "import numpy as np\n",
    "import pandas as pd\n",
    "from tensorflow.keras.models import Sequential\n",
    "from tensorflow.keras.layers import Dense\n",
    "from sklearn.preprocessing import StandardScaler\n",
    "from sklearn.model_selection import train_test_split"
   ]
  },
  {
   "cell_type": "code",
   "execution_count": 93,
   "id": "8e5a4f25-0ff1-45d9-9277-d17c414296c8",
   "metadata": {},
   "outputs": [],
   "source": [
    "dataframe = pd.read_csv('C:/Users/kimty/Downloads/Titanic-Dataset.csv')"
   ]
  },
  {
   "cell_type": "code",
   "execution_count": 94,
   "id": "d8d2aae9-7d5a-4a90-a726-d06651a44dad",
   "metadata": {},
   "outputs": [
    {
     "data": {
      "text/html": [
       "<div>\n",
       "<style scoped>\n",
       "    .dataframe tbody tr th:only-of-type {\n",
       "        vertical-align: middle;\n",
       "    }\n",
       "\n",
       "    .dataframe tbody tr th {\n",
       "        vertical-align: top;\n",
       "    }\n",
       "\n",
       "    .dataframe thead th {\n",
       "        text-align: right;\n",
       "    }\n",
       "</style>\n",
       "<table border=\"1\" class=\"dataframe\">\n",
       "  <thead>\n",
       "    <tr style=\"text-align: right;\">\n",
       "      <th></th>\n",
       "      <th>PassengerId</th>\n",
       "      <th>Survived</th>\n",
       "      <th>Pclass</th>\n",
       "      <th>Name</th>\n",
       "      <th>Sex</th>\n",
       "      <th>Age</th>\n",
       "      <th>SibSp</th>\n",
       "      <th>Parch</th>\n",
       "      <th>Ticket</th>\n",
       "      <th>Fare</th>\n",
       "      <th>Cabin</th>\n",
       "      <th>Embarked</th>\n",
       "    </tr>\n",
       "  </thead>\n",
       "  <tbody>\n",
       "    <tr>\n",
       "      <th>0</th>\n",
       "      <td>1</td>\n",
       "      <td>0</td>\n",
       "      <td>3</td>\n",
       "      <td>Braund, Mr. Owen Harris</td>\n",
       "      <td>male</td>\n",
       "      <td>22.0</td>\n",
       "      <td>1</td>\n",
       "      <td>0</td>\n",
       "      <td>A/5 21171</td>\n",
       "      <td>7.2500</td>\n",
       "      <td>NaN</td>\n",
       "      <td>S</td>\n",
       "    </tr>\n",
       "    <tr>\n",
       "      <th>1</th>\n",
       "      <td>2</td>\n",
       "      <td>1</td>\n",
       "      <td>1</td>\n",
       "      <td>Cumings, Mrs. John Bradley (Florence Briggs Th...</td>\n",
       "      <td>female</td>\n",
       "      <td>38.0</td>\n",
       "      <td>1</td>\n",
       "      <td>0</td>\n",
       "      <td>PC 17599</td>\n",
       "      <td>71.2833</td>\n",
       "      <td>C85</td>\n",
       "      <td>C</td>\n",
       "    </tr>\n",
       "    <tr>\n",
       "      <th>2</th>\n",
       "      <td>3</td>\n",
       "      <td>1</td>\n",
       "      <td>3</td>\n",
       "      <td>Heikkinen, Miss. Laina</td>\n",
       "      <td>female</td>\n",
       "      <td>26.0</td>\n",
       "      <td>0</td>\n",
       "      <td>0</td>\n",
       "      <td>STON/O2. 3101282</td>\n",
       "      <td>7.9250</td>\n",
       "      <td>NaN</td>\n",
       "      <td>S</td>\n",
       "    </tr>\n",
       "    <tr>\n",
       "      <th>3</th>\n",
       "      <td>4</td>\n",
       "      <td>1</td>\n",
       "      <td>1</td>\n",
       "      <td>Futrelle, Mrs. Jacques Heath (Lily May Peel)</td>\n",
       "      <td>female</td>\n",
       "      <td>35.0</td>\n",
       "      <td>1</td>\n",
       "      <td>0</td>\n",
       "      <td>113803</td>\n",
       "      <td>53.1000</td>\n",
       "      <td>C123</td>\n",
       "      <td>S</td>\n",
       "    </tr>\n",
       "    <tr>\n",
       "      <th>4</th>\n",
       "      <td>5</td>\n",
       "      <td>0</td>\n",
       "      <td>3</td>\n",
       "      <td>Allen, Mr. William Henry</td>\n",
       "      <td>male</td>\n",
       "      <td>35.0</td>\n",
       "      <td>0</td>\n",
       "      <td>0</td>\n",
       "      <td>373450</td>\n",
       "      <td>8.0500</td>\n",
       "      <td>NaN</td>\n",
       "      <td>S</td>\n",
       "    </tr>\n",
       "  </tbody>\n",
       "</table>\n",
       "</div>"
      ],
      "text/plain": [
       "   PassengerId  Survived  Pclass  \\\n",
       "0            1         0       3   \n",
       "1            2         1       1   \n",
       "2            3         1       3   \n",
       "3            4         1       1   \n",
       "4            5         0       3   \n",
       "\n",
       "                                                Name     Sex   Age  SibSp  \\\n",
       "0                            Braund, Mr. Owen Harris    male  22.0      1   \n",
       "1  Cumings, Mrs. John Bradley (Florence Briggs Th...  female  38.0      1   \n",
       "2                             Heikkinen, Miss. Laina  female  26.0      0   \n",
       "3       Futrelle, Mrs. Jacques Heath (Lily May Peel)  female  35.0      1   \n",
       "4                           Allen, Mr. William Henry    male  35.0      0   \n",
       "\n",
       "   Parch            Ticket     Fare Cabin Embarked  \n",
       "0      0         A/5 21171   7.2500   NaN        S  \n",
       "1      0          PC 17599  71.2833   C85        C  \n",
       "2      0  STON/O2. 3101282   7.9250   NaN        S  \n",
       "3      0            113803  53.1000  C123        S  \n",
       "4      0            373450   8.0500   NaN        S  "
      ]
     },
     "execution_count": 94,
     "metadata": {},
     "output_type": "execute_result"
    }
   ],
   "source": [
    "dataframe.head()"
   ]
  },
  {
   "cell_type": "code",
   "execution_count": 95,
   "id": "86ce67b2-ce2d-42ca-b107-1701b87f9f3e",
   "metadata": {},
   "outputs": [
    {
     "data": {
      "text/plain": [
       "(891, 12)"
      ]
     },
     "execution_count": 95,
     "metadata": {},
     "output_type": "execute_result"
    }
   ],
   "source": [
    "dataframe.shape"
   ]
  },
  {
   "cell_type": "code",
   "execution_count": 96,
   "id": "d61effbc-6994-4c71-a9d0-02d1883c9d0f",
   "metadata": {},
   "outputs": [
    {
     "data": {
      "text/plain": [
       "Index(['PassengerId', 'Survived', 'Pclass', 'Name', 'Sex', 'Age', 'SibSp',\n",
       "       'Parch', 'Ticket', 'Fare', 'Cabin', 'Embarked'],\n",
       "      dtype='object')"
      ]
     },
     "execution_count": 96,
     "metadata": {},
     "output_type": "execute_result"
    }
   ],
   "source": [
    "dataframe.columns"
   ]
  },
  {
   "cell_type": "code",
   "execution_count": 97,
   "id": "84a1553e-2059-4843-b245-13730eba7169",
   "metadata": {},
   "outputs": [
    {
     "name": "stdout",
     "output_type": "stream",
     "text": [
      "Preprocessed Features (X):\n",
      "   Pclass  Sex   Age  SibSp  Parch     Fare  Embarked\n",
      "0       3    0  22.0      1      0   7.2500       2.0\n",
      "1       1    1  38.0      1      0  71.2833       0.0\n",
      "2       3    1  26.0      0      0   7.9250       2.0\n",
      "3       1    1  35.0      1      0  53.1000       2.0\n",
      "4       3    0  35.0      0      0   8.0500       2.0\n",
      "Labels (y):\n",
      "0    0\n",
      "1    1\n",
      "2    1\n",
      "3    1\n",
      "4    0\n",
      "Name: Survived, dtype: int64\n"
     ]
    }
   ],
   "source": [
    "def preprocess_titanic_data(dataframe):\n",
    "    # Convert 'Sex' to numerical\n",
    "    dataframe['Sex'] = dataframe['Sex'].map({'male': 0, 'female': 1})\n",
    "    \n",
    "    # Convert 'Embarked' to numerical\n",
    "    dataframe['Embarked'] = dataframe['Embarked'].map({'C': 0, 'Q': 1, 'S': 2})\n",
    "    \n",
    "    # Fill missing 'Age' with the mean\n",
    "    dataframe['Age'] = dataframe['Age'].fillna(dataframe['Age'].mean())\n",
    "    \n",
    "    # Fill missing 'Embarked' with the mode\n",
    "    dataframe['Embarked'] = dataframe['Embarked'].fillna(dataframe['Embarked'].mode()[0])\n",
    "    \n",
    "    # Fill missing 'Fare' with the mean\n",
    "    dataframe['Fare'] = dataframe['Fare'].fillna(dataframe['Fare'].mean())\n",
    "    \n",
    "    # Select relevant features\n",
    "    features = ['Pclass', 'Sex', 'Age', 'SibSp', 'Parch', 'Fare', 'Embarked']\n",
    "    X = dataframe[features]\n",
    "    y = dataframe['Survived'] if 'Survived' in dataframe else None\n",
    "    \n",
    "    return X, y\n",
    "\n",
    "X, y = preprocess_titanic_data(dataframe)\n",
    "\n",
    "print(\"Preprocessed Features (X):\")\n",
    "print(X.head())\n",
    "print(\"Labels (y):\")\n",
    "print(y.head())\n"
   ]
  },
  {
   "cell_type": "code",
   "execution_count": 98,
   "id": "41abf389-ab65-4901-88e0-df16e022d576",
   "metadata": {},
   "outputs": [
    {
     "name": "stdout",
     "output_type": "stream",
     "text": [
      "Epoch 1/10\n",
      "23/23 [==============================] - 1s 20ms/step - loss: 0.6307 - accuracy: 0.7107 - val_loss: 0.5866 - val_accuracy: 0.7486\n",
      "Epoch 2/10\n",
      "23/23 [==============================] - 0s 6ms/step - loss: 0.5942 - accuracy: 0.7177 - val_loss: 0.5600 - val_accuracy: 0.7654\n",
      "Epoch 3/10\n",
      "23/23 [==============================] - 0s 7ms/step - loss: 0.5668 - accuracy: 0.7472 - val_loss: 0.5340 - val_accuracy: 0.7877\n",
      "Epoch 4/10\n",
      "23/23 [==============================] - 0s 7ms/step - loss: 0.5424 - accuracy: 0.7556 - val_loss: 0.5105 - val_accuracy: 0.7933\n",
      "Epoch 5/10\n",
      "23/23 [==============================] - 0s 5ms/step - loss: 0.5211 - accuracy: 0.7669 - val_loss: 0.4900 - val_accuracy: 0.7989\n",
      "Epoch 6/10\n",
      "23/23 [==============================] - 0s 6ms/step - loss: 0.5036 - accuracy: 0.7935 - val_loss: 0.4694 - val_accuracy: 0.7989\n",
      "Epoch 7/10\n",
      "23/23 [==============================] - 0s 7ms/step - loss: 0.4870 - accuracy: 0.7992 - val_loss: 0.4550 - val_accuracy: 0.7989\n",
      "Epoch 8/10\n",
      "23/23 [==============================] - 0s 6ms/step - loss: 0.4741 - accuracy: 0.8048 - val_loss: 0.4434 - val_accuracy: 0.8156\n",
      "Epoch 9/10\n",
      "23/23 [==============================] - 0s 7ms/step - loss: 0.4646 - accuracy: 0.8104 - val_loss: 0.4374 - val_accuracy: 0.7989\n",
      "Epoch 10/10\n",
      "23/23 [==============================] - 0s 6ms/step - loss: 0.4566 - accuracy: 0.8118 - val_loss: 0.4299 - val_accuracy: 0.7933\n"
     ]
    },
    {
     "data": {
      "text/plain": [
       "<keras.callbacks.History at 0x1a9ff994af0>"
      ]
     },
     "execution_count": 98,
     "metadata": {},
     "output_type": "execute_result"
    }
   ],
   "source": [
    "# Split the data into training and testing sets\n",
    "X_train, X_test, y_train, y_test = train_test_split(X, y, test_size=0.2, random_state=42)\n",
    "\n",
    "# Standardize the features\n",
    "scaler = StandardScaler()\n",
    "X_train = scaler.fit_transform(X_train)\n",
    "X_test = scaler.transform(X_test)\n",
    "\n",
    "# Build the neural network model\n",
    "model = Sequential()\n",
    "model.add(Dense(16, input_dim=X_train.shape[1], activation='relu'))\n",
    "model.add(Dense(8, activation='relu'))\n",
    "model.add(Dense(1, activation='sigmoid'))\n",
    "\n",
    "# Compile the model\n",
    "model.compile(optimizer='adam', loss='binary_crossentropy', metrics=['accuracy'])\n",
    "\n",
    "# Train the model\n",
    "model.fit(X_train, y_train, epochs=10, batch_size=32, validation_data=(X_test, y_test))\n"
   ]
  },
  {
   "cell_type": "code",
   "execution_count": 99,
   "id": "d9eb6371-2056-4833-b440-b69b1be75840",
   "metadata": {},
   "outputs": [
    {
     "data": {
      "text/plain": [
       "Index(['Pclass', 'Sex', 'Age', 'SibSp', 'Parch', 'Fare', 'Embarked'], dtype='object')"
      ]
     },
     "execution_count": 99,
     "metadata": {},
     "output_type": "execute_result"
    }
   ],
   "source": [
    "X.columns"
   ]
  },
  {
   "cell_type": "code",
   "execution_count": 106,
   "id": "17e14178-af5b-4b4e-bac2-0fba228f4d80",
   "metadata": {},
   "outputs": [
    {
     "name": "stdout",
     "output_type": "stream",
     "text": [
      "1/1 [==============================] - 0s 43ms/step\n",
      "Sample 1's Surviving Rate: [0.47553098]\n",
      "Sample 2's Surviving Rate: [0.3949421]\n"
     ]
    }
   ],
   "source": [
    "sample_data = [\n",
    "    [3, 'female', 30, 1, 0, 7.25, 'S'],\n",
    "    [1, 'male', 40, 0, 0, 100, 'C']\n",
    "]\n",
    "\n",
    "# Convert the list of lists to a DataFrame\n",
    "sample_dataframe = pd.DataFrame(sample_data, columns=['Pclass', 'Sex', 'Age', 'SibSp', 'Parch', 'Fare', 'Embarked'])\n",
    "\n",
    "# Preprocess the sample data\n",
    "X_sample, _ = preprocess_titanic_data(sample_dataframe)\n",
    "\n",
    "# Standardize the features using the previously fitted scaler\n",
    "X_sample = scaler.transform(X_sample)\n",
    "\n",
    "# Predict survival probabilities\n",
    "pred = model.predict(X_sample)\n",
    "\n",
    "# Print the results\n",
    "for i, prediction in enumerate(pred):\n",
    "    print(f\"Sample {i+1}'s Surviving Rate: {prediction}\")"
   ]
  },
  {
   "cell_type": "code",
   "execution_count": null,
   "id": "e1c2ca9c-bcda-40bb-9f22-463824f26ab8",
   "metadata": {},
   "outputs": [],
   "source": []
  }
 ],
 "metadata": {
  "kernelspec": {
   "display_name": "Python 3 (ipykernel)",
   "language": "python",
   "name": "python3"
  },
  "language_info": {
   "codemirror_mode": {
    "name": "ipython",
    "version": 3
   },
   "file_extension": ".py",
   "mimetype": "text/x-python",
   "name": "python",
   "nbconvert_exporter": "python",
   "pygments_lexer": "ipython3",
   "version": "3.11.5"
  }
 },
 "nbformat": 4,
 "nbformat_minor": 5
}
