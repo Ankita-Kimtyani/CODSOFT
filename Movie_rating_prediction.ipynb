{
  "cells": [
    {
      "cell_type": "code",
      "execution_count": 32,
      "id": "a97eae96",
      "metadata": {
        "id": "a97eae96"
      },
      "outputs": [],
      "source": [
        "import pandas as pd\n",
        "import pandas as pd\n",
        "import matplotlib.pyplot as plt\n",
        "import seaborn as sns\n",
        "import plotly.express as px"
      ]
    },
    {
      "cell_type": "code",
      "execution_count": 3,
      "id": "e0ad1440",
      "metadata": {
        "id": "e0ad1440"
      },
      "outputs": [],
      "source": [
        "data = pd.read_csv(r'/content/IMDb Movies India.csv',encoding='unicode_escape')"
      ]
    },
    {
      "cell_type": "code",
      "execution_count": 4,
      "id": "8bfbdd49",
      "metadata": {
        "colab": {
          "base_uri": "https://localhost:8080/",
          "height": 275
        },
        "id": "8bfbdd49",
        "outputId": "4592a2f7-76b8-4495-a37b-a43ef0fa4a5a"
      },
      "outputs": [
        {
          "output_type": "execute_result",
          "data": {
            "text/plain": [
              "                                 Name    Year Duration            Genre  \\\n",
              "0                                         NaN      NaN            Drama   \n",
              "1  #Gadhvi (He thought he was Gandhi)  (2019)  109 min            Drama   \n",
              "2                         #Homecoming  (2021)   90 min   Drama, Musical   \n",
              "3                             #Yaaram  (2019)  110 min  Comedy, Romance   \n",
              "4                   ...And Once Again  (2010)  105 min            Drama   \n",
              "\n",
              "   Rating Votes            Director       Actor 1             Actor 2  \\\n",
              "0     NaN   NaN       J.S. Randhawa      Manmauji              Birbal   \n",
              "1     7.0     8       Gaurav Bakshi  Rasika Dugal      Vivek Ghamande   \n",
              "2     NaN   NaN  Soumyajit Majumdar  Sayani Gupta   Plabita Borthakur   \n",
              "3     4.4    35          Ovais Khan       Prateik          Ishita Raj   \n",
              "4     NaN   NaN        Amol Palekar  Rajat Kapoor  Rituparna Sengupta   \n",
              "\n",
              "           Actor 3  \n",
              "0  Rajendra Bhatia  \n",
              "1    Arvind Jangid  \n",
              "2       Roy Angana  \n",
              "3  Siddhant Kapoor  \n",
              "4      Antara Mali  "
            ],
            "text/html": [
              "\n",
              "  <div id=\"df-094af04a-f9a4-4c72-b788-0e3db7e03d3a\" class=\"colab-df-container\">\n",
              "    <div>\n",
              "<style scoped>\n",
              "    .dataframe tbody tr th:only-of-type {\n",
              "        vertical-align: middle;\n",
              "    }\n",
              "\n",
              "    .dataframe tbody tr th {\n",
              "        vertical-align: top;\n",
              "    }\n",
              "\n",
              "    .dataframe thead th {\n",
              "        text-align: right;\n",
              "    }\n",
              "</style>\n",
              "<table border=\"1\" class=\"dataframe\">\n",
              "  <thead>\n",
              "    <tr style=\"text-align: right;\">\n",
              "      <th></th>\n",
              "      <th>Name</th>\n",
              "      <th>Year</th>\n",
              "      <th>Duration</th>\n",
              "      <th>Genre</th>\n",
              "      <th>Rating</th>\n",
              "      <th>Votes</th>\n",
              "      <th>Director</th>\n",
              "      <th>Actor 1</th>\n",
              "      <th>Actor 2</th>\n",
              "      <th>Actor 3</th>\n",
              "    </tr>\n",
              "  </thead>\n",
              "  <tbody>\n",
              "    <tr>\n",
              "      <th>0</th>\n",
              "      <td></td>\n",
              "      <td>NaN</td>\n",
              "      <td>NaN</td>\n",
              "      <td>Drama</td>\n",
              "      <td>NaN</td>\n",
              "      <td>NaN</td>\n",
              "      <td>J.S. Randhawa</td>\n",
              "      <td>Manmauji</td>\n",
              "      <td>Birbal</td>\n",
              "      <td>Rajendra Bhatia</td>\n",
              "    </tr>\n",
              "    <tr>\n",
              "      <th>1</th>\n",
              "      <td>#Gadhvi (He thought he was Gandhi)</td>\n",
              "      <td>(2019)</td>\n",
              "      <td>109 min</td>\n",
              "      <td>Drama</td>\n",
              "      <td>7.0</td>\n",
              "      <td>8</td>\n",
              "      <td>Gaurav Bakshi</td>\n",
              "      <td>Rasika Dugal</td>\n",
              "      <td>Vivek Ghamande</td>\n",
              "      <td>Arvind Jangid</td>\n",
              "    </tr>\n",
              "    <tr>\n",
              "      <th>2</th>\n",
              "      <td>#Homecoming</td>\n",
              "      <td>(2021)</td>\n",
              "      <td>90 min</td>\n",
              "      <td>Drama, Musical</td>\n",
              "      <td>NaN</td>\n",
              "      <td>NaN</td>\n",
              "      <td>Soumyajit Majumdar</td>\n",
              "      <td>Sayani Gupta</td>\n",
              "      <td>Plabita Borthakur</td>\n",
              "      <td>Roy Angana</td>\n",
              "    </tr>\n",
              "    <tr>\n",
              "      <th>3</th>\n",
              "      <td>#Yaaram</td>\n",
              "      <td>(2019)</td>\n",
              "      <td>110 min</td>\n",
              "      <td>Comedy, Romance</td>\n",
              "      <td>4.4</td>\n",
              "      <td>35</td>\n",
              "      <td>Ovais Khan</td>\n",
              "      <td>Prateik</td>\n",
              "      <td>Ishita Raj</td>\n",
              "      <td>Siddhant Kapoor</td>\n",
              "    </tr>\n",
              "    <tr>\n",
              "      <th>4</th>\n",
              "      <td>...And Once Again</td>\n",
              "      <td>(2010)</td>\n",
              "      <td>105 min</td>\n",
              "      <td>Drama</td>\n",
              "      <td>NaN</td>\n",
              "      <td>NaN</td>\n",
              "      <td>Amol Palekar</td>\n",
              "      <td>Rajat Kapoor</td>\n",
              "      <td>Rituparna Sengupta</td>\n",
              "      <td>Antara Mali</td>\n",
              "    </tr>\n",
              "  </tbody>\n",
              "</table>\n",
              "</div>\n",
              "    <div class=\"colab-df-buttons\">\n",
              "\n",
              "  <div class=\"colab-df-container\">\n",
              "    <button class=\"colab-df-convert\" onclick=\"convertToInteractive('df-094af04a-f9a4-4c72-b788-0e3db7e03d3a')\"\n",
              "            title=\"Convert this dataframe to an interactive table.\"\n",
              "            style=\"display:none;\">\n",
              "\n",
              "  <svg xmlns=\"http://www.w3.org/2000/svg\" height=\"24px\" viewBox=\"0 -960 960 960\">\n",
              "    <path d=\"M120-120v-720h720v720H120Zm60-500h600v-160H180v160Zm220 220h160v-160H400v160Zm0 220h160v-160H400v160ZM180-400h160v-160H180v160Zm440 0h160v-160H620v160ZM180-180h160v-160H180v160Zm440 0h160v-160H620v160Z\"/>\n",
              "  </svg>\n",
              "    </button>\n",
              "\n",
              "  <style>\n",
              "    .colab-df-container {\n",
              "      display:flex;\n",
              "      gap: 12px;\n",
              "    }\n",
              "\n",
              "    .colab-df-convert {\n",
              "      background-color: #E8F0FE;\n",
              "      border: none;\n",
              "      border-radius: 50%;\n",
              "      cursor: pointer;\n",
              "      display: none;\n",
              "      fill: #1967D2;\n",
              "      height: 32px;\n",
              "      padding: 0 0 0 0;\n",
              "      width: 32px;\n",
              "    }\n",
              "\n",
              "    .colab-df-convert:hover {\n",
              "      background-color: #E2EBFA;\n",
              "      box-shadow: 0px 1px 2px rgba(60, 64, 67, 0.3), 0px 1px 3px 1px rgba(60, 64, 67, 0.15);\n",
              "      fill: #174EA6;\n",
              "    }\n",
              "\n",
              "    .colab-df-buttons div {\n",
              "      margin-bottom: 4px;\n",
              "    }\n",
              "\n",
              "    [theme=dark] .colab-df-convert {\n",
              "      background-color: #3B4455;\n",
              "      fill: #D2E3FC;\n",
              "    }\n",
              "\n",
              "    [theme=dark] .colab-df-convert:hover {\n",
              "      background-color: #434B5C;\n",
              "      box-shadow: 0px 1px 3px 1px rgba(0, 0, 0, 0.15);\n",
              "      filter: drop-shadow(0px 1px 2px rgba(0, 0, 0, 0.3));\n",
              "      fill: #FFFFFF;\n",
              "    }\n",
              "  </style>\n",
              "\n",
              "    <script>\n",
              "      const buttonEl =\n",
              "        document.querySelector('#df-094af04a-f9a4-4c72-b788-0e3db7e03d3a button.colab-df-convert');\n",
              "      buttonEl.style.display =\n",
              "        google.colab.kernel.accessAllowed ? 'block' : 'none';\n",
              "\n",
              "      async function convertToInteractive(key) {\n",
              "        const element = document.querySelector('#df-094af04a-f9a4-4c72-b788-0e3db7e03d3a');\n",
              "        const dataTable =\n",
              "          await google.colab.kernel.invokeFunction('convertToInteractive',\n",
              "                                                    [key], {});\n",
              "        if (!dataTable) return;\n",
              "\n",
              "        const docLinkHtml = 'Like what you see? Visit the ' +\n",
              "          '<a target=\"_blank\" href=https://colab.research.google.com/notebooks/data_table.ipynb>data table notebook</a>'\n",
              "          + ' to learn more about interactive tables.';\n",
              "        element.innerHTML = '';\n",
              "        dataTable['output_type'] = 'display_data';\n",
              "        await google.colab.output.renderOutput(dataTable, element);\n",
              "        const docLink = document.createElement('div');\n",
              "        docLink.innerHTML = docLinkHtml;\n",
              "        element.appendChild(docLink);\n",
              "      }\n",
              "    </script>\n",
              "  </div>\n",
              "\n",
              "\n",
              "<div id=\"df-4d0ced41-9d9c-4012-9b7c-0e74b5c2771b\">\n",
              "  <button class=\"colab-df-quickchart\" onclick=\"quickchart('df-4d0ced41-9d9c-4012-9b7c-0e74b5c2771b')\"\n",
              "            title=\"Suggest charts\"\n",
              "            style=\"display:none;\">\n",
              "\n",
              "<svg xmlns=\"http://www.w3.org/2000/svg\" height=\"24px\"viewBox=\"0 0 24 24\"\n",
              "     width=\"24px\">\n",
              "    <g>\n",
              "        <path d=\"M19 3H5c-1.1 0-2 .9-2 2v14c0 1.1.9 2 2 2h14c1.1 0 2-.9 2-2V5c0-1.1-.9-2-2-2zM9 17H7v-7h2v7zm4 0h-2V7h2v10zm4 0h-2v-4h2v4z\"/>\n",
              "    </g>\n",
              "</svg>\n",
              "  </button>\n",
              "\n",
              "<style>\n",
              "  .colab-df-quickchart {\n",
              "      --bg-color: #E8F0FE;\n",
              "      --fill-color: #1967D2;\n",
              "      --hover-bg-color: #E2EBFA;\n",
              "      --hover-fill-color: #174EA6;\n",
              "      --disabled-fill-color: #AAA;\n",
              "      --disabled-bg-color: #DDD;\n",
              "  }\n",
              "\n",
              "  [theme=dark] .colab-df-quickchart {\n",
              "      --bg-color: #3B4455;\n",
              "      --fill-color: #D2E3FC;\n",
              "      --hover-bg-color: #434B5C;\n",
              "      --hover-fill-color: #FFFFFF;\n",
              "      --disabled-bg-color: #3B4455;\n",
              "      --disabled-fill-color: #666;\n",
              "  }\n",
              "\n",
              "  .colab-df-quickchart {\n",
              "    background-color: var(--bg-color);\n",
              "    border: none;\n",
              "    border-radius: 50%;\n",
              "    cursor: pointer;\n",
              "    display: none;\n",
              "    fill: var(--fill-color);\n",
              "    height: 32px;\n",
              "    padding: 0;\n",
              "    width: 32px;\n",
              "  }\n",
              "\n",
              "  .colab-df-quickchart:hover {\n",
              "    background-color: var(--hover-bg-color);\n",
              "    box-shadow: 0 1px 2px rgba(60, 64, 67, 0.3), 0 1px 3px 1px rgba(60, 64, 67, 0.15);\n",
              "    fill: var(--button-hover-fill-color);\n",
              "  }\n",
              "\n",
              "  .colab-df-quickchart-complete:disabled,\n",
              "  .colab-df-quickchart-complete:disabled:hover {\n",
              "    background-color: var(--disabled-bg-color);\n",
              "    fill: var(--disabled-fill-color);\n",
              "    box-shadow: none;\n",
              "  }\n",
              "\n",
              "  .colab-df-spinner {\n",
              "    border: 2px solid var(--fill-color);\n",
              "    border-color: transparent;\n",
              "    border-bottom-color: var(--fill-color);\n",
              "    animation:\n",
              "      spin 1s steps(1) infinite;\n",
              "  }\n",
              "\n",
              "  @keyframes spin {\n",
              "    0% {\n",
              "      border-color: transparent;\n",
              "      border-bottom-color: var(--fill-color);\n",
              "      border-left-color: var(--fill-color);\n",
              "    }\n",
              "    20% {\n",
              "      border-color: transparent;\n",
              "      border-left-color: var(--fill-color);\n",
              "      border-top-color: var(--fill-color);\n",
              "    }\n",
              "    30% {\n",
              "      border-color: transparent;\n",
              "      border-left-color: var(--fill-color);\n",
              "      border-top-color: var(--fill-color);\n",
              "      border-right-color: var(--fill-color);\n",
              "    }\n",
              "    40% {\n",
              "      border-color: transparent;\n",
              "      border-right-color: var(--fill-color);\n",
              "      border-top-color: var(--fill-color);\n",
              "    }\n",
              "    60% {\n",
              "      border-color: transparent;\n",
              "      border-right-color: var(--fill-color);\n",
              "    }\n",
              "    80% {\n",
              "      border-color: transparent;\n",
              "      border-right-color: var(--fill-color);\n",
              "      border-bottom-color: var(--fill-color);\n",
              "    }\n",
              "    90% {\n",
              "      border-color: transparent;\n",
              "      border-bottom-color: var(--fill-color);\n",
              "    }\n",
              "  }\n",
              "</style>\n",
              "\n",
              "  <script>\n",
              "    async function quickchart(key) {\n",
              "      const quickchartButtonEl =\n",
              "        document.querySelector('#' + key + ' button');\n",
              "      quickchartButtonEl.disabled = true;  // To prevent multiple clicks.\n",
              "      quickchartButtonEl.classList.add('colab-df-spinner');\n",
              "      try {\n",
              "        const charts = await google.colab.kernel.invokeFunction(\n",
              "            'suggestCharts', [key], {});\n",
              "      } catch (error) {\n",
              "        console.error('Error during call to suggestCharts:', error);\n",
              "      }\n",
              "      quickchartButtonEl.classList.remove('colab-df-spinner');\n",
              "      quickchartButtonEl.classList.add('colab-df-quickchart-complete');\n",
              "    }\n",
              "    (() => {\n",
              "      let quickchartButtonEl =\n",
              "        document.querySelector('#df-4d0ced41-9d9c-4012-9b7c-0e74b5c2771b button');\n",
              "      quickchartButtonEl.style.display =\n",
              "        google.colab.kernel.accessAllowed ? 'block' : 'none';\n",
              "    })();\n",
              "  </script>\n",
              "</div>\n",
              "\n",
              "    </div>\n",
              "  </div>\n"
            ],
            "application/vnd.google.colaboratory.intrinsic+json": {
              "type": "dataframe",
              "variable_name": "data",
              "summary": "{\n  \"name\": \"data\",\n  \"rows\": 15509,\n  \"fields\": [\n    {\n      \"column\": \"Name\",\n      \"properties\": {\n        \"dtype\": \"string\",\n        \"num_unique_values\": 13838,\n        \"samples\": [\n          \"Tumsa Nahin Dekha\",\n          \"Thanedaar\",\n          \"Farzande Hind\"\n        ],\n        \"semantic_type\": \"\",\n        \"description\": \"\"\n      }\n    },\n    {\n      \"column\": \"Year\",\n      \"properties\": {\n        \"dtype\": \"category\",\n        \"num_unique_values\": 102,\n        \"samples\": [\n          \"(1974)\",\n          \"(1963)\",\n          \"(1971)\"\n        ],\n        \"semantic_type\": \"\",\n        \"description\": \"\"\n      }\n    },\n    {\n      \"column\": \"Duration\",\n      \"properties\": {\n        \"dtype\": \"category\",\n        \"num_unique_values\": 182,\n        \"samples\": [\n          \"168 min\",\n          \"99 min\",\n          \"179 min\"\n        ],\n        \"semantic_type\": \"\",\n        \"description\": \"\"\n      }\n    },\n    {\n      \"column\": \"Genre\",\n      \"properties\": {\n        \"dtype\": \"category\",\n        \"num_unique_values\": 485,\n        \"samples\": [\n          \"Family, Mystery\",\n          \"Comedy, Fantasy, Musical\",\n          \"Action, Adventure, Crime\"\n        ],\n        \"semantic_type\": \"\",\n        \"description\": \"\"\n      }\n    },\n    {\n      \"column\": \"Rating\",\n      \"properties\": {\n        \"dtype\": \"number\",\n        \"std\": 1.3817771548659543,\n        \"min\": 1.1,\n        \"max\": 10.0,\n        \"num_unique_values\": 84,\n        \"samples\": [\n          1.4,\n          7.0,\n          2.9\n        ],\n        \"semantic_type\": \"\",\n        \"description\": \"\"\n      }\n    },\n    {\n      \"column\": \"Votes\",\n      \"properties\": {\n        \"dtype\": \"category\",\n        \"num_unique_values\": 2034,\n        \"samples\": [\n          \"837\",\n          \"101\",\n          \"2,566\"\n        ],\n        \"semantic_type\": \"\",\n        \"description\": \"\"\n      }\n    },\n    {\n      \"column\": \"Director\",\n      \"properties\": {\n        \"dtype\": \"category\",\n        \"num_unique_values\": 5938,\n        \"samples\": [\n          \"Param Hans Chitra\",\n          \"Vickram\",\n          \"Zaigham Ali Syed\"\n        ],\n        \"semantic_type\": \"\",\n        \"description\": \"\"\n      }\n    },\n    {\n      \"column\": \"Actor 1\",\n      \"properties\": {\n        \"dtype\": \"category\",\n        \"num_unique_values\": 4718,\n        \"samples\": [\n          \"Abhishek Bachchan\",\n          \"Giri Babu\",\n          \"Ajay Bafna\"\n        ],\n        \"semantic_type\": \"\",\n        \"description\": \"\"\n      }\n    },\n    {\n      \"column\": \"Actor 2\",\n      \"properties\": {\n        \"dtype\": \"category\",\n        \"num_unique_values\": 4891,\n        \"samples\": [\n          \"Bipasha Basu\",\n          \"Mukul Dev\",\n          \"Arjun Kapoor\"\n        ],\n        \"semantic_type\": \"\",\n        \"description\": \"\"\n      }\n    },\n    {\n      \"column\": \"Actor 3\",\n      \"properties\": {\n        \"dtype\": \"category\",\n        \"num_unique_values\": 4820,\n        \"samples\": [\n          \"Damandeep Singh\",\n          \"Kamini Kaushal\",\n          \"Babu\"\n        ],\n        \"semantic_type\": \"\",\n        \"description\": \"\"\n      }\n    }\n  ]\n}"
            }
          },
          "metadata": {},
          "execution_count": 4
        }
      ],
      "source": [
        "data.head()"
      ]
    },
    {
      "cell_type": "code",
      "execution_count": 5,
      "id": "d2956502",
      "metadata": {
        "colab": {
          "base_uri": "https://localhost:8080/"
        },
        "id": "d2956502",
        "outputId": "a95b3f50-c267-4729-e2b7-6cde59a488a4"
      },
      "outputs": [
        {
          "output_type": "execute_result",
          "data": {
            "text/plain": [
              "(15509, 10)"
            ]
          },
          "metadata": {},
          "execution_count": 5
        }
      ],
      "source": [
        "data.shape"
      ]
    },
    {
      "cell_type": "markdown",
      "source": [
        "## Data Cleaning"
      ],
      "metadata": {
        "id": "rF2RgT9xrUjB"
      },
      "id": "rF2RgT9xrUjB"
    },
    {
      "cell_type": "code",
      "execution_count": 6,
      "id": "7e01bace",
      "metadata": {
        "colab": {
          "base_uri": "https://localhost:8080/",
          "height": 397
        },
        "id": "7e01bace",
        "outputId": "2cb49faf-d351-4800-8580-3be280d92c16"
      },
      "outputs": [
        {
          "output_type": "execute_result",
          "data": {
            "text/plain": [
              "Name           0\n",
              "Year         528\n",
              "Duration    8269\n",
              "Genre       1877\n",
              "Rating      7590\n",
              "Votes       7589\n",
              "Director     525\n",
              "Actor 1     1617\n",
              "Actor 2     2384\n",
              "Actor 3     3144\n",
              "dtype: int64"
            ],
            "text/html": [
              "<div>\n",
              "<style scoped>\n",
              "    .dataframe tbody tr th:only-of-type {\n",
              "        vertical-align: middle;\n",
              "    }\n",
              "\n",
              "    .dataframe tbody tr th {\n",
              "        vertical-align: top;\n",
              "    }\n",
              "\n",
              "    .dataframe thead th {\n",
              "        text-align: right;\n",
              "    }\n",
              "</style>\n",
              "<table border=\"1\" class=\"dataframe\">\n",
              "  <thead>\n",
              "    <tr style=\"text-align: right;\">\n",
              "      <th></th>\n",
              "      <th>0</th>\n",
              "    </tr>\n",
              "  </thead>\n",
              "  <tbody>\n",
              "    <tr>\n",
              "      <th>Name</th>\n",
              "      <td>0</td>\n",
              "    </tr>\n",
              "    <tr>\n",
              "      <th>Year</th>\n",
              "      <td>528</td>\n",
              "    </tr>\n",
              "    <tr>\n",
              "      <th>Duration</th>\n",
              "      <td>8269</td>\n",
              "    </tr>\n",
              "    <tr>\n",
              "      <th>Genre</th>\n",
              "      <td>1877</td>\n",
              "    </tr>\n",
              "    <tr>\n",
              "      <th>Rating</th>\n",
              "      <td>7590</td>\n",
              "    </tr>\n",
              "    <tr>\n",
              "      <th>Votes</th>\n",
              "      <td>7589</td>\n",
              "    </tr>\n",
              "    <tr>\n",
              "      <th>Director</th>\n",
              "      <td>525</td>\n",
              "    </tr>\n",
              "    <tr>\n",
              "      <th>Actor 1</th>\n",
              "      <td>1617</td>\n",
              "    </tr>\n",
              "    <tr>\n",
              "      <th>Actor 2</th>\n",
              "      <td>2384</td>\n",
              "    </tr>\n",
              "    <tr>\n",
              "      <th>Actor 3</th>\n",
              "      <td>3144</td>\n",
              "    </tr>\n",
              "  </tbody>\n",
              "</table>\n",
              "</div><br><label><b>dtype:</b> int64</label>"
            ]
          },
          "metadata": {},
          "execution_count": 6
        }
      ],
      "source": [
        "data.isnull().sum()"
      ]
    },
    {
      "cell_type": "code",
      "source": [
        "data.info()"
      ],
      "metadata": {
        "colab": {
          "base_uri": "https://localhost:8080/"
        },
        "id": "ISKZOW_2qlke",
        "outputId": "e598da65-3ddb-4a8b-807d-32f7a4a757b7"
      },
      "id": "ISKZOW_2qlke",
      "execution_count": 7,
      "outputs": [
        {
          "output_type": "stream",
          "name": "stdout",
          "text": [
            "<class 'pandas.core.frame.DataFrame'>\n",
            "RangeIndex: 15509 entries, 0 to 15508\n",
            "Data columns (total 10 columns):\n",
            " #   Column    Non-Null Count  Dtype  \n",
            "---  ------    --------------  -----  \n",
            " 0   Name      15509 non-null  object \n",
            " 1   Year      14981 non-null  object \n",
            " 2   Duration  7240 non-null   object \n",
            " 3   Genre     13632 non-null  object \n",
            " 4   Rating    7919 non-null   float64\n",
            " 5   Votes     7920 non-null   object \n",
            " 6   Director  14984 non-null  object \n",
            " 7   Actor 1   13892 non-null  object \n",
            " 8   Actor 2   13125 non-null  object \n",
            " 9   Actor 3   12365 non-null  object \n",
            "dtypes: float64(1), object(9)\n",
            "memory usage: 1.2+ MB\n"
          ]
        }
      ]
    },
    {
      "cell_type": "code",
      "source": [
        "data.duplicated().sum()"
      ],
      "metadata": {
        "colab": {
          "base_uri": "https://localhost:8080/"
        },
        "id": "ENiaK1JaqukF",
        "outputId": "fc845986-1b19-43ef-85f9-b1fee2e24edb"
      },
      "id": "ENiaK1JaqukF",
      "execution_count": 8,
      "outputs": [
        {
          "output_type": "execute_result",
          "data": {
            "text/plain": [
              "6"
            ]
          },
          "metadata": {},
          "execution_count": 8
        }
      ]
    },
    {
      "cell_type": "code",
      "source": [
        "data.dropna(inplace=True)"
      ],
      "metadata": {
        "id": "nAymnkOyq2Xa"
      },
      "id": "nAymnkOyq2Xa",
      "execution_count": 9,
      "outputs": []
    },
    {
      "cell_type": "code",
      "source": [
        "data.shape"
      ],
      "metadata": {
        "colab": {
          "base_uri": "https://localhost:8080/"
        },
        "id": "N2FawED9q-hn",
        "outputId": "3a05d94a-4013-4195-b0d6-0783cbde0bb9"
      },
      "id": "N2FawED9q-hn",
      "execution_count": 10,
      "outputs": [
        {
          "output_type": "execute_result",
          "data": {
            "text/plain": [
              "(5659, 10)"
            ]
          },
          "metadata": {},
          "execution_count": 10
        }
      ]
    },
    {
      "cell_type": "code",
      "source": [
        "data.isnull().sum()"
      ],
      "metadata": {
        "colab": {
          "base_uri": "https://localhost:8080/",
          "height": 397
        },
        "id": "iO7yd0u5rEmU",
        "outputId": "e419bb80-555d-4dfb-b834-42a65af7e1d7"
      },
      "id": "iO7yd0u5rEmU",
      "execution_count": 11,
      "outputs": [
        {
          "output_type": "execute_result",
          "data": {
            "text/plain": [
              "Name        0\n",
              "Year        0\n",
              "Duration    0\n",
              "Genre       0\n",
              "Rating      0\n",
              "Votes       0\n",
              "Director    0\n",
              "Actor 1     0\n",
              "Actor 2     0\n",
              "Actor 3     0\n",
              "dtype: int64"
            ],
            "text/html": [
              "<div>\n",
              "<style scoped>\n",
              "    .dataframe tbody tr th:only-of-type {\n",
              "        vertical-align: middle;\n",
              "    }\n",
              "\n",
              "    .dataframe tbody tr th {\n",
              "        vertical-align: top;\n",
              "    }\n",
              "\n",
              "    .dataframe thead th {\n",
              "        text-align: right;\n",
              "    }\n",
              "</style>\n",
              "<table border=\"1\" class=\"dataframe\">\n",
              "  <thead>\n",
              "    <tr style=\"text-align: right;\">\n",
              "      <th></th>\n",
              "      <th>0</th>\n",
              "    </tr>\n",
              "  </thead>\n",
              "  <tbody>\n",
              "    <tr>\n",
              "      <th>Name</th>\n",
              "      <td>0</td>\n",
              "    </tr>\n",
              "    <tr>\n",
              "      <th>Year</th>\n",
              "      <td>0</td>\n",
              "    </tr>\n",
              "    <tr>\n",
              "      <th>Duration</th>\n",
              "      <td>0</td>\n",
              "    </tr>\n",
              "    <tr>\n",
              "      <th>Genre</th>\n",
              "      <td>0</td>\n",
              "    </tr>\n",
              "    <tr>\n",
              "      <th>Rating</th>\n",
              "      <td>0</td>\n",
              "    </tr>\n",
              "    <tr>\n",
              "      <th>Votes</th>\n",
              "      <td>0</td>\n",
              "    </tr>\n",
              "    <tr>\n",
              "      <th>Director</th>\n",
              "      <td>0</td>\n",
              "    </tr>\n",
              "    <tr>\n",
              "      <th>Actor 1</th>\n",
              "      <td>0</td>\n",
              "    </tr>\n",
              "    <tr>\n",
              "      <th>Actor 2</th>\n",
              "      <td>0</td>\n",
              "    </tr>\n",
              "    <tr>\n",
              "      <th>Actor 3</th>\n",
              "      <td>0</td>\n",
              "    </tr>\n",
              "  </tbody>\n",
              "</table>\n",
              "</div><br><label><b>dtype:</b> int64</label>"
            ]
          },
          "metadata": {},
          "execution_count": 11
        }
      ]
    },
    {
      "cell_type": "code",
      "source": [
        "data.drop_duplicates(inplace=True)"
      ],
      "metadata": {
        "id": "0pp-k5VTrOVD"
      },
      "id": "0pp-k5VTrOVD",
      "execution_count": 12,
      "outputs": []
    },
    {
      "cell_type": "code",
      "source": [
        "data.shape"
      ],
      "metadata": {
        "colab": {
          "base_uri": "https://localhost:8080/"
        },
        "id": "QUf_bT7Drxmd",
        "outputId": "72d60730-d15d-4f91-84f6-0e54f3464858"
      },
      "id": "QUf_bT7Drxmd",
      "execution_count": 13,
      "outputs": [
        {
          "output_type": "execute_result",
          "data": {
            "text/plain": [
              "(5659, 10)"
            ]
          },
          "metadata": {},
          "execution_count": 13
        }
      ]
    },
    {
      "cell_type": "code",
      "source": [
        "data.columns"
      ],
      "metadata": {
        "colab": {
          "base_uri": "https://localhost:8080/"
        },
        "id": "z6PZaFjcr3pi",
        "outputId": "88c5548c-7bde-4028-acb8-a384d3c4154a"
      },
      "id": "z6PZaFjcr3pi",
      "execution_count": 14,
      "outputs": [
        {
          "output_type": "execute_result",
          "data": {
            "text/plain": [
              "Index(['Name', 'Year', 'Duration', 'Genre', 'Rating', 'Votes', 'Director',\n",
              "       'Actor 1', 'Actor 2', 'Actor 3'],\n",
              "      dtype='object')"
            ]
          },
          "metadata": {},
          "execution_count": 14
        }
      ]
    },
    {
      "cell_type": "markdown",
      "source": [
        "## Data Preprocessing"
      ],
      "metadata": {
        "id": "dB9PFtvWr-ib"
      },
      "id": "dB9PFtvWr-ib"
    },
    {
      "cell_type": "code",
      "source": [
        "data['Year'] = data['Year'].str.replace(r'[()]','',regex=True).astype(int)"
      ],
      "metadata": {
        "id": "Uqy1tue8r7f7"
      },
      "id": "Uqy1tue8r7f7",
      "execution_count": 15,
      "outputs": []
    },
    {
      "cell_type": "code",
      "source": [
        "data['Duration']=pd.to_numeric(data['Duration'].str.replace(' min',''))"
      ],
      "metadata": {
        "id": "LPYxTMimsubw"
      },
      "id": "LPYxTMimsubw",
      "execution_count": 16,
      "outputs": []
    },
    {
      "cell_type": "code",
      "source": [
        "data['Genre']=data['Genre'].str.split(',')\n",
        "data=data.explode('Genre')\n",
        "data.loc[:, 'Genre'] = data['Genre'].fillna(data['Genre'].mode()[0])"
      ],
      "metadata": {
        "id": "Qq1_7sSSs865"
      },
      "id": "Qq1_7sSSs865",
      "execution_count": 23,
      "outputs": []
    },
    {
      "cell_type": "code",
      "source": [
        "data['Votes']=pd.to_numeric(data['Votes'].str.replace(',',''))"
      ],
      "metadata": {
        "id": "XJwYjEbwvDiT"
      },
      "id": "XJwYjEbwvDiT",
      "execution_count": 24,
      "outputs": []
    },
    {
      "cell_type": "code",
      "source": [
        "data.info()"
      ],
      "metadata": {
        "colab": {
          "base_uri": "https://localhost:8080/"
        },
        "id": "pBouFs79vSfy",
        "outputId": "c4474669-317c-4105-97e3-f649a10777cd"
      },
      "id": "pBouFs79vSfy",
      "execution_count": 25,
      "outputs": [
        {
          "output_type": "stream",
          "name": "stdout",
          "text": [
            "<class 'pandas.core.frame.DataFrame'>\n",
            "Index: 11979 entries, 1 to 15508\n",
            "Data columns (total 10 columns):\n",
            " #   Column    Non-Null Count  Dtype  \n",
            "---  ------    --------------  -----  \n",
            " 0   Name      11979 non-null  object \n",
            " 1   Year      11979 non-null  int64  \n",
            " 2   Duration  11979 non-null  int64  \n",
            " 3   Genre     11979 non-null  object \n",
            " 4   Rating    11979 non-null  float64\n",
            " 5   Votes     11979 non-null  int64  \n",
            " 6   Director  11979 non-null  object \n",
            " 7   Actor 1   11979 non-null  object \n",
            " 8   Actor 2   11979 non-null  object \n",
            " 9   Actor 3   11979 non-null  object \n",
            "dtypes: float64(1), int64(3), object(6)\n",
            "memory usage: 1.0+ MB\n"
          ]
        }
      ]
    },
    {
      "cell_type": "markdown",
      "source": [
        "## Data Visualization"
      ],
      "metadata": {
        "id": "rlKmSCu4vhJe"
      },
      "id": "rlKmSCu4vhJe"
    },
    {
      "cell_type": "code",
      "source": [
        "year=px.histogram(data,x='Year',histnorm='probability density',nbins=30)\n",
        "year.show()"
      ],
      "metadata": {
        "colab": {
          "base_uri": "https://localhost:8080/",
          "height": 542
        },
        "id": "kDuZpKIYvbCh",
        "outputId": "3ac3d554-c310-4f70-e749-64a3fdfdf139"
      },
      "id": "kDuZpKIYvbCh",
      "execution_count": 34,
      "outputs": [
        {
          "output_type": "display_data",
          "data": {
            "text/html": [
              "<html>\n",
              "<head><meta charset=\"utf-8\" /></head>\n",
              "<body>\n",
              "    <div>            <script src=\"https://cdnjs.cloudflare.com/ajax/libs/mathjax/2.7.5/MathJax.js?config=TeX-AMS-MML_SVG\"></script><script type=\"text/javascript\">if (window.MathJax && window.MathJax.Hub && window.MathJax.Hub.Config) {window.MathJax.Hub.Config({SVG: {font: \"STIX-Web\"}});}</script>                <script type=\"text/javascript\">window.PlotlyConfig = {MathJaxConfig: 'local'};</script>\n",
              "        <script charset=\"utf-8\" src=\"https://cdn.plot.ly/plotly-2.35.2.min.js\"></script>                <div id=\"020a26d0-650e-45ff-8503-37c038046140\" class=\"plotly-graph-div\" style=\"height:525px; width:100%;\"></div>            <script type=\"text/javascript\">                                    window.PLOTLYENV=window.PLOTLYENV || {};                                    if (document.getElementById(\"020a26d0-650e-45ff-8503-37c038046140\")) {                    Plotly.newPlot(                        \"020a26d0-650e-45ff-8503-37c038046140\",                        [{\"alignmentgroup\":\"True\",\"bingroup\":\"x\",\"histnorm\":\"probability\",\"hovertemplate\":\"Year=%{x}\\u003cbr\\u003eprobability=%{y}\\u003cextra\\u003e\\u003c\\u002fextra\\u003e\",\"legendgroup\":\"\",\"marker\":{\"color\":\"#636efa\",\"pattern\":{\"shape\":\"\"}},\"name\":\"\",\"nbinsx\":30,\"offsetgroup\":\"\",\"orientation\":\"v\",\"showlegend\":false,\"x\":[2019,2019,2019,1997,1997,1997,2005,2005,2005,2012,2012,2012,2014,2014,2014,2004,2016,1991,1991,1991,2012,2012,2012,2018,2018,2010,2010,2010,1958,1958,1958,2021,2021,2017,2017,2009,2009,2009,2005,1993,2002,2002,2014,2004,2008,2008,2008,2016,2016,2012,2012,2012,2018,2018,2018,1994,1994,1994,2007,2007,2007,2019,2017,2012,2012,2012,2003,2003,2003,2014,2014,2014,2018,2018,1998,1998,1998,2017,2018,1979,1979,2019,2002,2002,2002,1974,2014,2014,2012,2012,2003,2003,2019,2009,2009,2018,2015,2015,2015,2015,2015,2006,2006,2006,1981,1981,2020,2020,2019,1985,2013,2013,2013,2019,2011,2011,2011,2016,2012,2012,2012,2012,1974,1974,2011,2011,2011,2014,2007,2005,2005,1988,2016,2016,2006,2011,2011,2011,1987,1987,1987,2019,2019,2019,2019,2009,2009,2009,2021,2021,2021,2003,2003,2017,2009,2009,2009,2019,2019,2005,2005,2016,2017,2016,2016,2005,2005,2010,2010,2010,2016,2016,2016,2020,2020,2017,2017,2019,2019,2013,2013,2016,2005,2005,2019,2008,2008,2008,1999,1999,1999,2018,2009,2009,2009,1973,1973,1973,1994,1994,2017,2016,2004,1968,1968,1968,2018,1982,1982,1982,1977,2019,1982,2013,2013,2013,1950,1950,1968,1968,1993,1993,1993,1991,1969,1969,1969,1993,1993,2009,1977,1977,2016,1977,1977,1948,1948,1994,1994,1994,1994,1987,1990,1990,1993,1988,1988,1989,2001,2009,2009,2009,2000,2000,2000,1953,1953,1953,1978,1978,1993,1993,1977,1987,1963,1963,2003,1990,1990,1990,1985,1985,1992,1992,1976,1976,2000,2000,1991,1991,1984,1984,1988,1988,1990,1984,1984,1984,1993,2007,2007,2007,1968,1968,1986,1986,1986,1988,1988,1989,1989,1989,1989,1989,1989,1989,1989,1989,1979,1979,1966,1990,1990,1997,1975,1975,1975,1980,1980,1980,2010,2010,2010,2012,2001,2001,2007,2018,2018,2001,2001,2001,2008,2008,2008,1967,1967,1967,1982,1982,1982,1984,1970,1970,1970,2004,2004,2004,2003,1980,1980,1980,1975,1975,1985,1952,1990,2019,1993,1993,1993,2002,2002,2002,1972,1972,1970,1970,1970,1994,2009,2009,2009,1971,1971,1971,1976,1976,1974,1974,1977,1977,1977,2006,2006,1964,1964,1964,2002,2002,2002,1980,1980,1980,1981,1981,2003,2003,2003,1985,1997,2011,2011,1974,1954,1954,1954,1962,1962,1962,2007,2007,2007,1999,1999,1957,1957,1980,1980,1980,2010,1962,2001,2001,2001,2005,2005,2005,1977,1990,1990,1990,2013,2013,2013,2011,2011,1968,2014,2018,2018,2018,2009,1984,1984,1965,1992,1992,1992,1993,1966,1966,1997,1996,1996,1995,1995,1995,2006,2006,2006,1979,1994,1994,1994,2006,2006,2006,2013,2013,2013,1998,1998,1974,1974,1956,1964,1964,1964,1999,1966,1966,2011,2011,2011,1995,1995,1995,1984,1957,2012,1995,1995,2004,2004,2004,2015,2015,2015,1994,1994,2004,2004,2004,2004,2004,2013,2013,1980,1980,1980,1955,1955,1955,1995,1977,1977,1977,1968,1968,1973,1973,1991,1991,1991,1989,1989,1989,1970,1970,1984,2010,2010,2010,1973,1973,1998,1998,1998,1936,1936,1936,2009,2009,2009,2019,2019,2019,2014,2014,2014,2010,2010,2010,2010,2010,2010,1958,1958,1958,1976,1976,1976,1965,1965,1965,1954,1954,1954,2001,2001,2007,2010,2010,2010,1983,1983,1955,1990,1990,1990,2017,2017,2017,1983,2019,1978,1980,1980,1980,1985,1985,1985,2016,2016,2016,2004,2004,2004,1997,1997,1997,1986,1986,1966,1966,1951,1951,2001,2001,1991,1991,1950,1950,2014,2014,1983,1983,1972,1972,1972,1977,1977,1977,2012,2012,2012,1985,1985,1988,1988,1988,1997,1990,1990,1990,1990,1990,1990,2012,2012,2012,1997,1981,1981,1996,1996,1996,1997,2000,2002,2002,2002,1980,1980,1980,2009,2009,2009,2019,2019,1995,1979,1979,1981,1981,2006,2006,1979,1979,2016,2016,2015,2010,2010,2010,1996,1996,2009,2009,2009,1985,1985,2004,2004,2004,2018,2018,2018,2012,2012,2012,2012,2009,2009,2009,2017,1974,1974,1996,1996,1996,2021,2021,2017,2001,2001,2001,1991,1991,1991,2004,2004,2020,2020,2020,2013,2013,1965,1991,1991,1991,1979,1979,1979,2014,1995,1999,2002,2002,1989,1989,2001,2001,2001,2006,2006,2006,2017,2017,2017,1977,1977,1952,1952,2009,2009,2009,1985,1985,1985,2006,2006,2006,2019,1973,1979,1979,1979,2001,2001,2001,1951,1951,1951,1980,1980,1980,2019,2019,1966,1966,1966,1954,1954,1954,1977,1977,2017,1953,2015,2015,2015,2015,2015,2020,1984,1984,2009,2009,2009,2010,2010,2010,1997,1986,1986,2015,2011,2011,2011,1994,1994,1967,1967,1967,2016,1975,1975,1954,1954,1954,1958,1958,1936,1972,1972,1972,2020,1961,1978,1978,1978,1977,1977,1977,2019,2019,1990,1952,1952,1952,2013,2001,2001,2001,1974,1974,1990,2014,2014,1986,2001,2001,2001,2021,2021,1966,1966,1986,1986,2005,1967,1967,1967,2016,2016,2017,1973,1973,1973,1971,1971,1952,1952,1952,1977,1977,1959,1959,1959,1993,1993,1993,1975,1975,1999,1953,1953,1953,2016,2016,2003,2003,2003,1949,1949,1949,1971,1971,1994,1994,1994,1994,1994,1994,1990,1990,1985,1985,1985,1983,1983,2018,2018,2018,1975,1975,1975,1986,1986,1984,1984,1995,1995,1995,1992,1992,1992,1996,1996,1998,1998,1998,2011,2011,1982,2005,1995,1995,2020,2020,2015,2015,1960,1960,1960,1952,1952,1952,1973,1973,1973,1967,1967,1967,1987,1994,1994,1969,2010,2010,2010,2005,1969,1969,1969,2003,2003,2003,2009,2009,2009,1985,2006,2006,2006,1968,1968,1968,2013,2013,1997,2013,2013,1974,1986,1986,1993,1993,1993,1946,1946,1946,1982,1978,1978,2016,1971,1992,1992,1975,1975,1975,1989,1982,1972,2000,2000,2006,1948,1948,1948,1973,1973,1968,1968,1968,1962,1962,1962,2002,2002,2002,1969,1969,2008,2008,1991,2021,1994,2006,2006,1971,2003,1966,1966,1972,1960,1960,2006,2006,1977,1977,2007,2007,2007,2015,2015,2015,1993,2005,2005,2005,2010,2010,2010,2007,2007,1960,2006,2006,2006,1977,1977,2007,2007,1996,1996,1975,1975,1975,1980,1980,1980,1975,1975,1972,1972,1972,1974,1957,1964,1964,1964,1969,1969,1969,1994,1983,1983,1985,1985,1985,2001,2001,2001,1999,1999,1999,2019,2019,2012,2012,2012,1953,1953,2003,2003,2003,1996,1996,2010,2010,2010,1967,1967,1983,1983,1982,1982,2019,2019,2019,1978,1988,1988,2006,2006,2006,1950,1950,1965,1965,1965,2004,2004,2004,2012,2012,2018,2018,1984,1984,1984,1993,1993,1952,1952,2017,2010,2018,2001,2001,2001,1986,1962,1962,1962,2000,2020,2012,2012,2018,2020,2005,2005,2005,2007,1990,1990,1978,1978,2020,2010,2020,2020,2013,2013,2013,1968,1968,1993,1998,1998,1998,1979,1979,1979,2007,2013,2013,2013,1940,1967,1967,1988,1998,2016,2016,2010,1997,1997,1997,1978,1987,1987,1987,1986,1986,1986,2017,2017,1983,1951,1951,1951,1990,1984,1984,1984,1964,1964,1964,2002,2002,2002,2007,2007,2007,2020,2016,2019,2019,1969,1969,1982,1964,1964,1991,2000,2000,2000,2001,1955,1955,1955,1978,1978,1978,1990,1990,1940,2016,2016,2016,2017,2012,2012,2012,2017,2021,2021,2018,2018,2018,2009,2009,2009,2006,2006,2006,1999,1999,1999,2017,2017,2017,2000,2000,2000,2016,2016,2016,2018,2018,2020,2020,2020,1990,1990,1990,2001,2017,2019,2015,1990,1990,1990,1955,1955,1955,2016,2016,2016,2017,2017,1957,1957,1957,2018,2012,2012,2012,1986,2013,2013,1962,1962,1962,1953,1953,1953,2003,2003,2018,2018,2018,1951,1951,1951,1968,1968,1968,1984,1995,1995,1995,1993,1993,1993,1972,1972,1972,2014,2014,2014,1985,1985,1950,1986,1985,1985,2017,2017,2017,2015,2015,2008,2008,2008,2005,2005,2005,2008,2008,2008,1970,1970,1970,2017,1984,1984,2003,2009,2009,2009,1973,1973,1973,1951,1951,1966,1966,1966,2000,2000,2000,1978,1978,1983,1983,1983,1999,1999,1999,1989,1998,1998,1998,2018,2018,2002,2002,2002,1987,1993,1993,1969,1969,1969,1945,1945,1986,1974,2019,2019,2019,1980,1980,2015,2015,2015,2014,1982,1982,2010,2010,2010,1998,2016,2016,2015,2015,2019,1971,2017,2017,2017,2013,1989,1982,1982,1938,2003,2003,2019,1990,1951,1966,1966,1967,1967,1968,2019,1941,1967,1967,1967,1965,1965,1985,1964,1954,1954,1954,2020,2020,2020,1952,1952,1952,2021,2013,2013,2013,2015,2015,2015,1976,2015,2015,2015,1996,1996,2015,2017,2019,1985,1985,1971,1976,1976,1976,2012,2017,1968,1992,1992,2014,1968,1968,1968,2020,2006,2006,2009,1997,1973,1973,1962,2010,2010,2010,1990,1990,1990,1998,1998,1998,1969,1969,1969,1983,1983,1973,1973,1992,1957,1957,1963,1963,1963,1955,1955,1955,1980,1980,1980,1994,1994,1994,2013,2013,2014,2014,2014,2015,2015,1991,1991,2016,2016,2016,2017,2017,2017,2021,1950,1955,1955,2009,2009,2009,2005,2005,2004,2004,2004,2015,2015,2015,2012,2012,2012,1959,2015,2015,1976,1976,1976,1998,1998,1998,2019,2019,1949,1949,1949,1995,1995,1981,1981,1960,1960,1960,1998,2006,2006,2006,2001,2001,2001,1942,1942,1960,1960,1960,1956,1956,1956,1981,1981,2019,2019,2019,1979,1979,2019,2018,1989,1989,2000,1972,1972,1972,1950,1950,1949,1949,1982,1982,2014,2011,2011,2011,1993,1993,1993,1993,1993,2013,1962,1962,1962,1989,1989,2016,2016,2016,2017,2017,2017,2017,2005,2016,2016,2016,1972,1972,1983,1983,1992,1992,1992,1982,1982,1974,1974,1974,1999,1999,1999,1964,1964,2001,2001,2010,2010,1985,1985,1980,1980,1980,1981,1981,1981,1978,1978,2013,2013,2013,1992,1992,1983,1983,1997,1997,1994,1994,1969,1964,1964,1964,1952,1952,1995,1995,2005,2005,1985,1985,1992,2017,2014,2014,2014,1960,2015,2015,2015,2013,2013,2013,2017,2017,1982,1982,2015,2015,2015,2015,2015,2013,2013,2013,2018,1991,1991,1991,1957,1961,1961,2018,2018,2013,1956,1956,1956,2006,2006,2006,2001,2005,2005,2005,2005,2005,1986,1986,1970,1985,1985,1985,1994,1997,1997,1969,1969,1997,1972,1972,1972,2000,2000,1959,1959,1956,2001,1994,1994,1994,1996,1996,1996,1980,1980,1980,1979,1979,1979,1976,1976,2001,2001,2017,2017,2017,2020,2020,2020,1976,1976,2017,2019,2019,2019,2002,2002,2002,1942,1942,1942,2017,1985,1985,1985,2018,2018,2018,2010,2010,2010,1981,1981,1998,1988,2003,1982,1965,1965,1965,2007,2007,2011,2011,1935,2011,2011,2011,2016,2012,2012,2012,2018,1984,2001,1958,1958,2007,2007,2007,2017,2017,2017,2003,2003,2003,2010,2010,2010,1965,1965,1965,1999,2012,2012,2012,2020,2020,2020,2014,2014,2014,2008,2008,2008,1963,1999,2014,2011,2011,2011,2018,2016,1989,1989,1989,2011,2011,2011,1977,1969,1969,2000,2000,2000,1974,1974,1974,1937,2007,2007,2007,2012,2000,1982,1982,1982,1989,1989,1989,2009,2009,2018,1963,1963,1963,2011,2011,2011,1980,2013,1984,1984,2001,2017,1966,1954,2017,2017,2017,2019,2012,1966,1988,1988,1999,1999,1999,1981,1981,2005,2008,2008,2008,1959,1959,1959,2004,2004,2004,2015,2015,1971,1971,1971,2020,2019,2019,1973,1973,1973,2005,2005,2005,2018,2018,2019,2019,2012,2012,2012,2009,2009,2009,2017,2017,2017,2009,2013,2013,2013,1963,2005,2005,2005,1973,1973,1973,2014,2014,2014,2005,2011,2011,2011,2017,2017,2012,2012,1992,1992,1992,2016,2016,2014,2011,2009,2009,2009,1993,1993,1960,1960,1960,2019,2019,2019,1980,1980,1998,1998,1998,2019,2019,2019,2013,2008,2008,2008,1972,1972,1972,2015,2015,2015,2001,2001,2003,2003,2001,2001,2001,1954,1954,1954,1997,1997,1997,2002,2013,2013,2013,2021,1965,1961,1961,2018,1968,1968,1968,2010,2010,2010,2011,2011,2011,2015,2015,2015,2004,2004,2004,2018,2018,2018,2015,2015,2015,2001,2011,2017,2017,2017,2016,2016,2007,1971,1971,1971,2016,2016,2016,1966,1966,1966,2000,2000,2020,2020,2020,2018,2014,1976,1976,1976,2005,2005,2013,2013,2013,2012,2010,2010,2010,2015,2020,2020,2005,2005,2005,2005,2005,2019,2019,2019,2008,2008,2008,2005,2005,2005,1956,1956,1956,1967,1967,1967,2019,2019,2019,2013,2003,2003,2003,2015,2000,2000,2000,2017,2007,2007,2007,1986,1986,1991,1991,2020,2020,2020,1986,1971,1971,1971,2009,2009,2019,2019,2019,2007,2007,2007,2009,2009,2009,2015,2012,2001,1996,1996,2005,2005,2005,1989,1989,1989,2003,2012,2012,1994,1994,1994,1977,2012,2012,1985,2016,2014,2014,1977,1977,1977,1997,1997,1997,2019,2019,2004,2007,2007,2007,2007,2007,2007,1977,1977,1977,1981,2012,2012,2012,2012,1978,1978,1978,2014,2009,2009,2009,2015,2000,2000,2012,2012,1977,1977,1977,2011,2011,2003,2016,2012,2011,2011,2002,2002,2002,1977,1977,2003,2003,1976,1976,1958,1958,1958,2020,2020,1992,1992,1992,2003,1986,1986,1986,2008,2008,2008,2000,2000,2000,2019,2019,2019,2010,2010,2010,1959,1965,1965,1965,2005,2005,2006,1967,1967,1967,2005,1969,1999,1967,1989,1989,1989,2001,2001,1948,1993,1993,1993,2007,2007,2007,1935,1984,2002,1957,1957,1957,1980,1961,1961,1955,1955,1955,1975,1976,1976,1976,2004,2004,2004,1974,1974,2015,2010,2010,2010,2013,2013,1981,1981,1981,1983,2011,2011,2011,2017,1994,1994,1994,2014,2018,2007,2007,2007,2017,2017,2017,2015,2005,1981,1981,1981,1992,1965,1965,2013,2013,2013,1970,2005,1981,1981,1981,1977,1977,1977,2020,2020,1960,1960,2020,2020,2019,1952,1952,1961,1961,2019,2019,2007,2007,2012,2012,2012,2013,2016,2013,2013,2013,2019,2019,2019,1998,1998,1998,1996,1961,1961,1961,1996,1996,1996,1959,1971,1971,1976,1976,1967,1967,2001,2001,2001,2016,2016,2016,2019,2005,2005,2005,2018,2018,2018,2016,2014,2014,2014,2011,2011,2011,1998,1998,1998,1962,1962,1962,2015,2006,2006,2006,2006,2009,2009,2020,2020,2016,2019,1976,1976,2011,2011,2011,2012,2012,2012,2005,2005,2005,2020,2000,2019,2019,1993,1993,1993,2015,1954,1954,2013,2013,2013,2002,2002,2002,1974,1974,1974,1990,1990,1977,1977,1977,1956,1956,1956,2003,2003,2003,1972,1972,2001,2001,2001,1975,1975,1975,1982,1982,1980,1975,1975,2003,2020,2019,2019,1974,1997,2016,2016,2006,2006,2006,1975,1975,1975,2003,2003,2003,2003,2003,2003,2015,2014,2014,2010,2010,2020,2020,2020,1989,1989,1989,2010,2010,2010,2013,2016,2016,2016,2012,2012,2012,2015,2008,2008,2008,2006,2020,2020,1988,1988,1988,2013,2013,2013,2017,2017,2017,2019,2019,2019,2002,2002,2002,1974,1974,1974,1986,2021,2021,2008,2008,2008,2020,2009,2009,1983,1983,1983,1995,1995,1995,1991,1991,1991,2020,2020,2020,2006,1992,1992,1992,2014,2020,2000,2011,2011,2011,2016,2016,2014,2014,2014,1994,1994,1994,2010,2010,2010,2016,2016,2016,1992,2011,2011,2019,2019,2005,2005,2005,2021,2021,2021,1997,1997,1997,1966,1966,1966,1953,1952,1952,1973,1973,1973,1999,1999,1999,1964,1964,2012,2005,2005,2018,2018,1997,1997,1997,2019,2014,2014,2014,2010,2010,2010,2010,2010,2010,2012,2012,2012,2019,2019,2019,1987,1987,1979,1979,1979,1999,1980,1980,2017,2017,2017,2009,2009,2017,1975,1975,2015,2015,2015,1998,1950,1999,1999,1999,1986,1986,1977,1977,2000,2000,2000,2000,2000,2000,2000,1993,1993,2011,2011,2011,1978,2011,2011,2011,1993,1993,1985,1987,1987,1987,1997,1997,1995,1995,1995,1991,1991,1991,1998,2016,2016,2016,2012,2012,2012,2019,2019,2005,2018,1996,1996,1996,2020,2020,2020,1982,2005,1988,2019,2019,2007,2007,2007,1997,2003,2006,1949,1949,1949,1970,1970,1993,1993,1993,2014,2014,1978,2002,2006,2006,2006,2008,2008,2018,2018,1972,1972,1972,1996,1996,1970,1950,1950,1950,2008,2008,2001,1997,1997,1997,1982,1982,1982,1992,1992,1992,2013,2013,2013,1975,1988,1988,1988,2017,2016,2013,2013,2009,2009,2009,2019,2019,2019,2008,2008,2008,2016,2016,2006,2006,2016,2016,2017,2017,2018,2014,2014,2016,2016,1987,2014,2014,2014,1992,1992,1951,1951,2001,2001,1976,1976,1976,1975,1975,1975,1992,1992,1992,2013,2013,2013,1997,1997,1990,1990,1990,1987,1987,2000,2000,2005,2005,2005,2002,2002,2002,2007,2009,2009,2009,1957,1957,2014,1985,1985,2018,2011,2011,2011,2011,2011,2012,2012,2012,2009,2012,2012,2012,2012,2007,2007,2007,2002,1980,2008,2008,1982,1982,1982,1991,1991,1991,2011,2011,2014,1958,2015,2015,2015,2009,2009,2009,2004,2009,2009,2005,1966,1966,1966,1978,1978,2002,2002,2002,1936,1936,1955,1955,1955,2002,2002,2002,2019,2004,2004,2004,2019,2019,2019,2019,1956,1956,1998,2018,2000,2000,1997,1997,2018,2018,2000,2000,2006,2006,2006,2007,2007,2007,1973,1973,1973,1980,2007,2007,1993,1993,1993,1981,1981,1981,2008,2008,2016,1975,1975,1991,1991,2015,1977,1977,1977,1992,1992,1986,1986,1986,1997,1997,1975,1975,1975,1961,2011,2011,2011,1950,1950,2017,2017,2001,2001,2020,2010,2007,2007,2007,2007,2007,2007,1951,1951,1979,1979,1979,1959,2004,2004,2004,2006,2006,2006,2013,2013,2013,2008,2008,2008,2009,2009,2003,1975,1989,1989,1981,2002,2002,2002,1973,1973,1973,2003,2003,2003,2019,2019,2019,1982,1982,1982,1940,1940,2012,1989,1989,1991,1990,1990,1990,1992,1992,1978,1978,1978,1968,2020,2020,2020,2009,2009,2009,2001,2001,2001,1959,1959,2015,2015,2015,1974,1974,1966,1966,1966,2006,2006,2006,2007,2007,2007,1963,1963,1963,1993,1993,1993,1991,1991,1991,2002,2002,1963,1963,1963,1992,1992,2005,2005,2017,2018,2018,1992,1992,2003,2003,2003,2014,2014,2014,2008,2008,2005,2005,1993,1993,1999,1999,1999,2004,2004,2004,2004,1967,1967,2003,2003,2000,2016,1998,1998,1993,1993,1993,1962,1962,1996,1996,1997,1997,1997,2011,2011,2011,2016,2016,1987,2002,2002,2002,1982,1994,1994,1977,1977,1977,1953,1987,1987,1996,1996,1996,1947,1947,1999,1999,1999,1966,1966,1966,2015,2015,1950,1950,1950,1986,1986,1986,1994,1994,1994,2015,2015,2015,1995,1995,1980,2016,2016,2016,2015,1982,1982,1982,1990,1990,1990,2014,2014,2016,2016,2016,1984,1984,1993,1993,1967,1967,1976,1957,1957,1957,1980,1980,1980,1969,1969,1969,1953,1971,1971,2015,1982,1982,2010,2010,1968,1968,1972,1975,1975,1968,1968,1968,2009,2009,2016,2016,2016,1978,1978,1978,1974,1974,1998,1958,1958,1974,1974,1974,1980,1980,1989,1989,1969,1969,1971,1977,1959,1959,1959,1988,2014,2017,2017,2004,2004,1940,1969,1969,1998,1998,2015,2015,2019,2019,2019,2019,2006,2006,2006,1978,1978,1978,2011,2011,2011,2008,2008,2016,2016,2016,2006,2006,2006,1990,1990,1990,2017,1964,1964,1971,1964,2020,2020,1977,1977,1977,1983,1983,2006,2007,2007,2007,1974,1989,1964,1964,1964,1986,1986,2019,2005,2005,2005,2011,2011,2011,2018,2015,2014,1947,1947,1947,1999,2013,1931,2014,2014,2019,2019,2009,2009,2009,2013,1990,2015,2015,2015,2019,2019,2019,1994,1994,1992,1992,1992,2003,1994,1994,2015,1949,1949,1964,1964,1964,2010,2010,2010,2016,2016,2016,1967,1967,1967,2000,2000,2000,1977,1977,1977,1998,2003,2003,2003,2015,2015,2015,2011,2011,2011,1984,1984,1979,1979,1937,2015,2015,2010,2010,1998,1998,1998,2002,1983,1983,1983,2002,2020,2020,2007,1966,1966,1966,1976,1976,1976,2010,2010,1998,1998,1998,1990,1990,1957,1996,1992,1992,1995,1995,1995,1971,1973,1973,1973,2009,2009,2009,1998,1998,1998,2014,2012,2012,2001,2001,2019,2019,1994,1994,1994,1989,1989,1989,2001,2001,2019,2019,2019,1946,1946,2018,1972,2005,2005,2005,2000,2003,1981,1981,1986,1986,1978,1978,1983,1980,1980,1980,1980,2020,1972,1972,1986,2007,2007,2007,2002,1985,1985,1963,1963,1963,2003,1989,1990,1990,1981,1981,1981,1957,1991,2017,1972,1972,1972,2004,2004,2004,1981,1981,1981,1993,1992,1992,1983,1983,1968,1968,1968,2005,2005,2005,2007,2007,1992,1992,2019,2019,2019,1986,2012,2012,2012,1970,1990,1990,1990,1971,1971,1971,2015,2015,2015,1986,1960,1960,1960,1969,1969,1969,1968,1968,1968,1963,1957,1957,1957,2020,2020,1965,1965,1965,1976,1976,1976,2004,2004,2009,2009,2009,1969,1969,2000,2015,2018,2018,1996,1996,2012,2012,2012,2013,2013,2013,1949,2009,2008,2008,2009,2009,2009,1956,2012,2012,2018,2014,2007,2007,2007,2019,2019,2019,2019,1994,1994,1994,1971,1971,1971,2005,2005,1947,2008,2008,2008,1984,1984,2005,2005,2005,2002,2002,2020,2020,2012,2012,2012,2003,2003,2003,2007,2007,2007,2018,2001,2001,2001,2020,2020,2020,2015,2015,2015,2011,2011,1985,1985,2019,2019,2013,2013,2013,1976,1976,1976,1988,1988,1988,2019,2019,2019,2019,2019,2006,2006,2006,2017,2016,2016,2016,2006,2006,2006,1975,1975,1975,1965,1965,1983,1983,1996,1996,1996,2005,2005,1977,1977,1967,1967,1967,1989,1957,1957,2008,2008,2009,2009,2009,2019,2019,1933,1933,1943,2012,2012,2012,2021,1963,1963,1963,2016,2016,2016,2012,2012,2012,1954,1954,2016,2016,2004,2004,2004,1981,1981,1981,2006,2006,2002,2002,1983,1983,1983,2005,2012,2019,2014,2014,2014,2008,2008,2008,2017,2017,1996,1996,2013,2013,2021,2010,2013,2013,2015,2015,1991,1990,1990,1990,2016,2016,2000,2000,2000,2014,2017,2017,2017,2021,2021,2016,2007,2007,2007,2007,1953,1953,1953,2020,2020,2003,2003,2003,2011,2011,2011,2016,2016,2016,2007,1959,2015,2015,2015,2012,2009,2009,2009,2019,2019,2016,2016,2016,2016,2018,1980,1980,1980,2008,2008,2008,2007,2009,2009,2009,2018,2018,2016,2016,2014,2014,2013,2013,2013,2020,2020,2020,2017,1960,1960,1960,2005,2012,2017,1973,1973,1966,1966,1966,2015,2015,2015,2007,2001,2001,2001,1995,1995,1995,2006,1999,1999,1989,1989,1989,2000,2000,2004,2012,2012,2012,2009,1978,2004,2004,2004,1971,1971,1971,1995,1995,1995,1993,1993,1993,2011,2011,2011,2007,2007,2007,2017,2017,2017,2018,1982,1982,1982,2011,2011,2011,2007,2007,2007,2016,2016,2016,1986,1986,1986,2000,2000,2000,2014,2014,2016,2006,2006,2006,1980,1978,1978,1983,1988,1988,1988,2003,2003,2003,2013,2013,2012,2012,2012,2006,2006,2006,1984,1984,2018,1972,1972,1972,2005,1955,1972,1972,1972,2005,2018,2018,1993,1993,1993,1974,2011,2014,1968,1968,2007,2007,2007,2016,1979,1979,1979,2002,1989,2004,2004,2004,1992,1975,1975,1975,1993,1980,1980,1973,1973,1973,2002,2002,2002,1986,2018,2018,1989,1989,1989,1985,1985,2008,2008,2008,2013,2013,2013,1978,1978,1963,1963,1998,1998,1998,1985,1984,1988,1988,1970,1970,2004,2004,1990,1992,1992,1989,1967,1987,1987,1948,1948,1988,1988,1988,1961,1961,1961,1977,1977,1998,1976,1976,1996,1996,2008,2008,1990,1990,1990,2016,2016,2016,1982,1982,1982,1992,1992,2019,2019,2020,1997,1997,1997,2012,2019,2019,2020,2020,1998,1998,1998,1973,1973,1956,1956,1997,1997,1997,1985,1985,1981,1981,2007,1984,2020,2020,2020,2013,2013,2004,2000,2016,2007,2007,2007,2013,2013,2013,1968,1968,2019,2008,2008,2008,1963,1983,1999,1999,1999,2018,2018,2018,1968,1968,1968,2010,2010,2010,2010,2010,2017,2017,2017,2008,2008,2008,2006,2006,2006,2019,2019,2007,2007,2019,2008,2008,2008,1989,1989,1989,1959,1959,2013,2013,2013,1979,1970,1970,1970,1994,1994,1994,1982,1982,1948,1972,1972,1972,2013,2013,2013,2015,2015,1993,1993,1993,2017,2001,2001,1963,1963,2013,2013,2013,2016,2016,2016,2012,1979,1979,1971,1971,1971,1995,1995,2015,2015,2015,1997,1997,1997,2017,1965,1965,1965,2020,2020,2020,2020,2020,2014,2014,2009,2009,2009,2012,2020,2020,2019,2019,2019,1965,1965,1965,2008,2008,2019,2019,2019,1963,1963,1993,1993,1993,1993,1993,2002,2002,2002,1970,1967,1990,1988,1969,1969,1969,1998,1998,1998,1995,2014,2014,2014,1995,1961,1961,1961,2020,2020,2020,2020,2019,2019,1997,1997,1997,2016,2016,1989,1980,1980,1980,2003,2007,1988,1988,2010,1981,1981,1993,1993,1993,1969,2015,2015,2015,2010,2010,1962,2008,2008,2002,2002,2002,2003,2003,2003,2011,1974,1974,2002,1971,1971,1971,1982,1982,1982,1995,1995,1995,1986,1986,1986,1990,1990,1990,2020,2000,2000,1998,2014,2016,2015,2014,2014,2014,2011,2011,1984,1984,1984,1977,1977,1977,2020,2020,2020,1956,1956,1956,2017,2017,2021,2021,1962,1962,1962,2018,2018,2008,2008,1996,1996,1956,1978,2000,2000,2000,1985,2018,2018,2018,2015,2015,1997,1997,1997,2018,1967,1967,1967,1963,1963,1944,1944,2004,2004,2004,1979,1979,2012,2019,1984,2005,2017,2017,1974,2019,2019,2016,2016,2014,2014,2020,2020,2011,2011,2014,2014,2014,2018,1964,1964,1964,1985,1985,1995,1995,1995,1991,2000,2000,2000,1979,1979,1979,1950,2018,2015,2015,2020,2020,2020,1967,1967,1967,1971,1971,1976,1976,1976,1982,2004,2004,2008,2008,2008,2000,2000,1962,1962,1962,2014,2014,2018,1999,1999,1999,1968,1968,1968,1971,1971,1971,1993,2012,2012,2014,2014,2015,2015,2018,2018,2018,1967,1989,1989,2002,2002,2002,2007,2007,2007,1988,1988,1988,2004,2004,2004,1998,1991,2011,2011,2011,2020,2004,2003,2003,2003,2014,2014,2014,2015,2015,2004,2004,2004,2003,2003,1968,1998,2003,2014,2014,2014,1970,1970,1970,1992,1992,1999,1999,1999,1982,2018,2008,2008,1999,1999,1999,2021,2010,2010,2010,2010,2016,2016,2016,2010,2010,2010,2010,1991,1991,1991,1976,1976,1976,2000,2000,2000,1964,1983,1983,1983,2015,2015,2015,1998,1998,1998,1988,1988,1988,1997,1997,1997,2008,2008,2008,2012,2014,2014,2015,2015,2015,2000,2000,2000,2018,2007,2007,2018,2018,2010,2010,2010,1987,1987,2018,2014,2014,2014,2008,2008,1965,1965,1965,1970,1970,1970,1996,1996,1996,1987,1987,1987,1996,1996,1983,1983,1983,1998,2013,2013,2013,2017,2017,2017,2017,1973,1973,1973,2002,1977,1987,1987,1987,2010,2010,2010,1988,1988,1988,2004,2004,2004,2015,2015,1999,1999,1999,1985,1985,1970,1970,2014,2014,2003,2003,2005,2005,2020,1973,1973,1973,1992,1992,2007,2007,2007,2018,2018,2018,2017,2013,1985,1985,1985,2011,2011,2011,2006,1999,1999,1999,1981,1981,2017,2018,2018,2018,2018,2018,2016,2016,2019,1991,2000,2000,2009,2010,2010,2012,2012,2012,2016,2016,2016,2019,2019,2019,1958,1958,1999,1987,1987,1995,1995,1995,1971,1971,1971,2004,2004,2004,2008,2008,1991,1991,1991,1999,1999,1994,1994,1994,1989,1989,1989,2019,1999,1999,1999,1985,1985,1985,1961,1961,1961,1995,1995,1995,1946,2014,1994,1994,1994,1993,1993,1993,1993,1993,1993,2001,2001,2001,2004,2004,2004,2002,2002,2002,1977,1977,1977,1951,1980,1980,1980,1985,1985,1980,1980,2002,2002,1999,1999,1995,1995,1995,1983,1990,1990,1990,1988,2000,2000,2000,2004,2004,2004,2010,2010,2010,2005,1971,2015,2015,1999,1999,1999,2011,2011,2011,2002,2002,1945,1945,2019,2019,2019,2003,1980,1980,1980,2006,2006,2006,2006,2007,2014,2014,2014,2002,2002,2002,1983,1974,1974,1974,2014,2014,2014,2003,2003,2003,2015,2015,2018,2018,2018,1998,1998,1998,2006,2019,2004,2004,2004,2010,2010,2010,2019,2010,2010,2010,2015,2015,2020,2020,2015,2018,2018,2018,2005,2013,2010,2010,2010,2020,2015,2015,2006,2006,2006,2013,2013,2013,2012,2018,2018,2014,2014,2014,2010,2010,2017,1994,1994,1989,1989,1986,1986,1954,1954,1954,2007,1974,1987,1987,1987,1977,1977,1994,1994,1994,1974,1974,1994,1994,2012,2017,2017,2003,2003,2003,2001,2001,2001,2015,2015,2015,2015,2015,2015,2019,2019,2019,1996,2020,2020,1958,1932,1932,1989,1989,2017,2017,1977,1977,2013,2013,2013,1984,1984,1984,1935,1966,1966,1966,1994,1994,1986,1986,1997,1997,1997,2004,2004,1982,1982,1982,1959,1959,1959,1974,1974,1980,1980,2005,2005,2005,1994,1994,1994,1955,1955,1955,1987,2012,1991,1991,1991,1991,1991,2018,1969,1969,2003,2003,2003,1992,1992,1992,2001,2001,2004,2004,1974,1974,1999,1999,1999,1973,2005,2005,2006,2006,2017,2017,2017,1996,1996,2019,1964,2008,2012,2012,2012,2013,1974,1974,2013,2013,1997,1997,1997,2016,2004,2017,2017,2015,2015,1994,2018,2018,2018,2003,2003,2015,2018,2018,2010,2010,2010,1992,1992,1992,2010,2010,2010,2017,2017,1998,1998,1998,2015,2013,2013,1962,1962,2003,2003,2003,2010,1987,1987,1997,1997,1997,1981,1981,2014,2014,2014,2012,1969,1969,1969,2001,2001,2001,2017,2017,2017,1968,1968,1991,1991,1990,1990,1990,2017,1989,1989,2004,2004,2004,1993,1993,1952,1952,1967,1967,1967,1969,2003,2003,2003,1960,1960,1960,1996,1996,1996,1987,1975,1985,1990,1992,1992,1992,1992,1992,1992,1999,1999,1983,1983,1983,2006,2006,2006,1998,1998,1998,2010,2010,2010,2018,2008,2008,2008,1971,1976,1976,1976,2006,2006,2006,1983,1983,1983,1979,1979,1979,2002,2002,2002,2015,2015,1999,1999,1999,1972,1972,1972,1989,1989,2017,2017,2017,1965,1965,1961,1961,1961,1963,1963,2012,2012,2016,2007,2007,2007,1967,1967,2019,2019,2019,2018,2018,2013,2013,2019,1977,1977,1978,2017,2017,2017,1984,1984,1984,2001,2001,2001,1955,1955,1955,2007,2007,2007,1969,1969,1999,2019,2016,2016,2014,2014,2015,2015,2007,2007,2007,2015,2015,2015,1994,1994,1951,2020,2020,2020,1975,1975,1990,2009,2009,2009,1995,2009,1973,1973,1989,1989,1977,1977,1977,2003,2003,2003,2013,1980,2018,2018,1995,1995,1977,2012,2012,2012,1987,1987,2021,2021,1950,1950,1995,1995,1994,1994,2006,2006,2003,2003,2003,1986,1986,1972,1972,2016,2012,2012,2012,1936,2012,2012,2012,2018,2008,2008,2008,1979,1979,1979,1965,1965,1985,1985,1985,2009,2009,2009,2017,1984,1984,1984,2020,2020,1970,1970,1970,1942,1968,1987,2006,2006,2006,1989,1959,1990,1990,2013,2013,2013,2015,2015,2015,1980,2012,2012,2012,2017,1992,1992,2002,2002,1991,1979,1990,1990,1981,1969,1969,1984,1996,1996,1983,1986,1986,1986,1991,1982,1982,1990,1990,1976,1976,1970,1970,1970,1936,1997,1997,1997,1967,1967,1967,2018,2018,2019,1955,1955,1955,2003,2003,2003,1953,1953,1953,2012,1973,1973,2019,2019,1941,1962,1962,2007,2007,2007,1998,1998,2010,2010,2010,2019,1985,1991,1991,1961,1961,1961,1964,1964,2017,1938,1938,2014,1991,1991,1969,2006,2017,2000,2000,2000,1960,1960,1960,2003,2003,2003,2012,2012,2012,2005,2005,2005,2011,2011,2011,1992,1992,1992,2008,2008,2008,1999,2012,2012,2012,2001,2001,1950,1950,1950,2003,2003,2005,2005,1967,1967,1967,1966,1966,1966,1971,1965,1965,1965,2013,2013,2013,1980,1980,1980,2007,2007,2007,1957,1957,1982,1982,1970,1970,1970,2012,2012,2012,2013,2013,2017,2017,2000,2000,2000,2019,2000,2000,2000,1973,1973,1989,1989,1989,2007,2007,2007,2007,2007,2007,1994,1994,1968,1997,1997,1997,1980,1980,1997,1997,2019,2019,2019,1997,1997,1997,2017,2017,2016,1973,1973,1973,1975,1975,1975,2004,2004,2017,2017,2017,2019,2021,1996,1996,1996,2000,2000,2000,1989,1989,2000,2000,2000,1998,1961,1961,1961,2019,2019,2019,2017,1979,1992,1992,1992,2016,2016,1990,1990,1990,2005,2005,2005,1979,1979,1996,1989,1989,2019,2007,2007,2007,1983,1983,1983,1980,1980,1980,2000,2000,1944,1944,2019,1981,1980,1980,1980,2017,2017,2017,2002,2021,2021,2021,1987,1987,2013,2013,2021,2021,2021,2015,1959,2017,1965,1965,1965,2005,2005,2005,2018,2018,1979,1979,1979,1999,1999,1999,1975,1975,2018,2018,2020,2020,2020,2000,1981,1981,2010,2010,2010,2004,1975,1987,1987,1982,1982,2014,2014,2014,2020,1989,1989,2002,2002,2002,1990,1987,2015,2003,2018,1970,1970,1970,2021,2016,2016,2016,2006,2006,1994,1994,1994,2001,2001,2001,1998,1998,1998,1999,1999,1976,1976,2019,2019,2019,1963,1963,1988,2000,2006,2006,2006,1961,1988,1988,1988,2011,2011,1999,1999,1999,2006,2006,2019,2019,2019,1981,2017,2017,2017,1996,1996,1996,1998,1998,2019,2017,1990,2003,2003,2012,2012,2016,2016,2008,2008,1989,1981,1981,1973,1973,1968,1968,1968,2014,2014,2014,1963,2000,2000,2000,1984,1984,2013,2013,1999,2007,2007,2013,2010,2010,2010,2012,2012,2012,1971,1971,1971,1959,2003,2003,2003,1992,2009,2009,2009,2005,2005,2005,1960,1960,1960,1989,1989,1960,1960,1960,1986,1986,1958,1958,1958,1980,1977,1977,1977,1993,1993,1993,2019,2019,1951,1951,1980,1980,1980,2002,1959,1959,2018,1976,1976,1976,1996,1996,1948,1997,1981,2005,2005,2005,2001,2012,2012,2013,2013,2009,2009,2009,2009,2009,2009,1984,1989,1997,1963,1963,1963,1999,1999,2019,1949,1949,1959,1971,1959,1959,1959,1994,1994,2000,1960,1960,1960,1994,1994,1989,1989,1989,2019,1988,1988,1968,1968,2017,2013,2013,2013,2016,2016,2016,2005,2005,2005,1993,1993,1993,1994,1995,1995,1995,2014,1983,1983,1983,1998,1998,2018,1985,1985,1984,1984,2014,2014,1977,1977,1986,1986,1986,2009,2008,2008,2008,1985,2000,2000,1979,1979,2010,2010,2010,1999,1999,2014,2014,1978,1978,1978,2018,2018,2018,1980,1980,1980,2002,2002,2002,2008,2008,2008,2019,1992,1992,2005,1988,1988,1988,1984,1984,1993,1993,1974,1974,1991,1973,1973,1973,2018,2018,1964,1964,1964,2001,2001,2001,1957,1957,1983,1983,2018,1971,1971,1970,1970,1970,1981,1981,1981,2013,2013,2006,2015,2015,2015,2004,1987,1987,1991,1991,1991,2015,2015,2015,1997,1997,1997,1997,1997,1999,1999,1983,1959,1959,1983,1983,1993,1993,1993,2018,2018,1973,1998,1998,1998,2020,2020,2002,2002,2002,2016,2019,2019,2019,2012,2012,2020,2020,2020,1976,1976,1976,1984,2018,2004,2004,2004,1993,1993,1993,1976,1976,1976,2007,2007,2007,1993,1993,1993,2004,2019,2019,1986,1986,2017,2005,2005,1970,1970,2019,2019,1996,1996,1996,2015,2015,2015,2006,2006,2006,1942,1942,1979,1979,2019,2019,1965,1965,1984,1980,2007,2011,2011,1990,1990,1990,1988,1988,1978,1978,2010,2010,2010,2000,2000,2000,1989,1989,1958,1941,2018,1992,1992,1992,2003,2003,2003,1975,1975,1975,1977,1977,2016,2016,2008,2008,2010,2010,2010,2010,2010,1992,1992,1992,2000,2000,2000,2012,2012,1996,1996,1996,1968,1968,1970,1970,1970,1989,1989,2017,2017,2017,2012,2012,1999,1999,1999,2014,2014,1981,1981,1988,1988,1988,1991,1991,1991,1981,1974,1974,1996,1977,1977,1999,1989,1991,1999,2006,2006,2006,1958,1974,1974,1974,2015,2007,2007,1980,1980,1980,1992,1992,1992,2020,2020,2020,1983,2010,2010,2010,1982,1982,1994,1994,1994,1987,1964,1964,1964,1992,2005,1975,1975,2003,2003,2003,1997,2014,2014,2014,1980,1980,1980,2020,2003,2003,2003,2016,2016,2014,2014,2014,2008,2008,2008,2014,2014,2014,1992,1992,1992,1977,1977,1963,1963,1962,1962,1962,1993,1993,1993,1986,1986,2019,2019,2004,2004,2004,2015,2015,2017,2009,2009,2009,1974,1974,1974,1937,1990,1990,1990,1995,1995,1995,2004,2004,2008,2008,2008,1943,1956,1956,1956,2012,2012,2012,1986,1986,2005,2005,2005,2004,1978,2009,2009,2009,2019,2019,2019,1983,1983,1977,2010,2010,2010,2002,2002,2010,2010,2010,1960,1960,1960,1993,1993,1964,1964,1964,1991,1999,1999,1999,2005,2005,2005,2003,2003,2021,1976,1976,2005,2005,2002,2002,2002,2003,2003,2003,1986,1986,1978,1974,1974,1974,2020,1972,2001,2020,2020,2020,2014,2014,1997,1997,1997,1981,1981,1981,2002,2002,1997,1997,1997,1994,1994,1994,2010,2010,2010,2008,2008,2008,2018,2017,1993,1996,1996,1996,1997,2012,2012,2012,2004,2004,2020,2020,2020,1990,1990,1990,2000,2000,2000,1981,1981,1981,2006,2006,2006,2013,2013,2013,1993,1993,1993,2011,2011,2003,2003,2018,2007,2001,2001,2001,1998,1998,1998,2015,2015,2003,2003,2003,2018,2002,2002,2002,2018,2005,2005,2006,1981,1981,1981,1998,1998,1998,1987,1985,2014,2014,2017,2017,2017,1955,1955,1993,1993,2000,2000,2000,1974,1974,2007,1991,1991,1991,2009,2009,2009,2000,2000,2000,2008,2008,2008,2010,2018,2014,2014,2014,2000,2000,2007,2007,2007,2011,2011,2011,2002,2002,2005,2005,2016,2012,2001,2001,2001,2005,2005,2004,2004,2004,1994,1994,2011,2007,2007,2007,2019,2019,2019,2016,2016,2016,2017,2017,2017,1992,1992,1992,1981,1981,1981,1999,1999,1999,1966,2014,1981,2006,2011,2011,2011,1953,1975,1975,2010,2010,2010,2001,2001,2001,2006,2006,2006,2013,2017,2017,2017,1997,1997,2010,2010,2010,2021,2021,2021,1979,1979,2005,2005,1953,2018,2018,2001,2001,2001,1958,1958,2014,2014,2004,2004,2013,1984,1984,1984,1971,1971,1991,1982,2014,2004,2004,2004,1999,1999,1966,1978,1971,1960,2002,2002,2002,2012,1992,1992,1992,2010,2010,2010,1991,1991,1991,2016,2011,2011,2011,1989,1989,1989,2018,2019,2019,2013,2013,2013,2018,1967,1967,1967,1997,1997,1997,2010,1993,2020,2020,2020,2012,2012,2012,2012,1964,1964,1964,1939,1939,2008,2008,2014,2014,1990,1990,1990,2016,2016,2016,2002,2002,2002,2004,2004,2004,2009,2009,2009,2004,2017,2017,2013,2013,2013,1988,2017,2017,2017,2010,2007,2007,2007,2014,2014,2017,2012,2012,2007,2007,2019,2019,2018,2012,2012,2012,1939,1939,2012,2012,2019,2007,2007,2014,2014,2014,2016,2016,2016,2016,2013,2019,2001,2001,2001,2020,2020,2014,1996,1996,1996,1973,1973,2003,2003,2003,2015,2015,2012,2012,1987,1987,1987,1997,2019,2007,2007,2005,2005,2005,2009,2009,2009,2020,2020,2020,2009,2009,2012,2014,2014,2014,2017,2017,2017,2011,2011,2011,2020,2020,2013,2013,1993,1993,1993,2019,2019,1991,1991,1991,1986,1986,2020,2020,2009,2009,2009,2016,2017,2017,2017,2003,2003,1997,2011,2011,2011,2015,2011,2011,2009,2016,2016,2009,2009,2006,2006,2006,2004,2004,2004,1966,1966,1966,2006,2016,2001,2001,2001,2009,2009,2009,1989,1989,1959,2018,2018,2020,2020,2016,2016,2018,2021,2021,2021,1981,1981,1981,2008,2008,2008,2018,2011,2011,2018,2018,2018,2012,2012,2018,2018,2016,2016,2008,2010,2010,2010,2019,2019,2019,2009,2009,2009,2009,2015,2017,2017,2017,2014,2005,2005,2005,2020,2020,2020,2019,2019,2018,2018,2018,2018,2011,2011,2017,2012,2015,2015,2012,2012,2019,2014,2014,2014,2014,2014,2014,2014,2016,2016,2016,1962,1962,1962,1992,1992,1957,1957,1976,1976,1970,1960,1960,1986,1985,1999,2002,2002,1996,1996,1996,1964,2018,1980,1980,2008,2008,2008,1984,1995,1995,1995,2018,1984,1984,2017,2013,2013,2013,2021,2021,2014,2017,2017,2017,2016,2016,2016,2021,1994,1994,1994,1959,1959,2019,2019,2009,2009,1974,1974,1974,2004,2004,2004,2006,1958,1958,1958,2016,2016,2009,2009,2009,2015,2015,2013,2013,2013,2004,1996,1979,1985,1985,1985,1989,1989,1983,1983,1983,1981,1981,1981,1965,1965,1965,2013,2013,2013,2013,2013,2013,1985,1985,1985,1949,1949,1949,1970,1970,1970,1987,1998,1998,1998,2012,2012,2008,2008,2008,1990,1990,1990,2016,2007,2015,1969,1969,2013,2013,1957,1957,1995,1995,2005,2005,2005,2015,2015,2015,1981,1981,2014,2014,1983,1983,1989,1986,1962,1962,2004,2004,2004,2015,1994,1994,2013,2013,2013,2021,2003,2003,2003,1998,1998,1971,1971,1971,2014,2014,2014,1999,1978,1978,2017,2019,2019,1988,2005,2005,2005,2002,2002,2005,2005,2005,1987,2017,1991,1967,2021,1998,1998,1998,2001,2001,2001,2019,2019,2019,2006,2020,2020,2020,2010,2010,2010,1994,1966,1966,1969,1969,1971,1971,2004,1972,1972,1999,1973,1973,1973,1983,1983,1983,1983,1983,2005,2005,2005,2013,2013,1981,1981,2007,2007,2007,2019,2019,2019,2015,2015,2015,2014,2014,1976,1976,1976,1962,1962,1980,1980,2007,2007,2007,1974,1974,1974,2018,2018,2017,2017,1960,1960,1979,1979,1979,1974,2003,2003,2003,1984,1984,1985,1985,1985,1998,2018,2018,2014,2014,2014,2019,2019,2019,2014,2007,2007,2007,1955,1955,1955,2019,2019,2019,2003,2003,2019,2017,2002,1987,1987,2019,2019,2014,2014,2014,1971,1971,2015,2017,2014,2014,2002,2002,2002,1950,1984,1984,1984,2005,2005,2005,2020,2020,2020,2009,2009,2009,1983,1996,1996,1996,1986,1999,1999,1999,1991,1991,1991,1970,1970,1970,2001,1985,1985,1985,2004,2004,2004,2011,2011,2011,2017,2016,2013,2013,1985,1985,2013,2013,2003,1975,1975,2011,2011,2011,2018,1998,2003,1983,1983,2002,2012,2012,2012,2001,1993,1993,1993,1958,1958,1972,1954,1954,1954,2005,1975,1934,1983,1983,1976,2009,2009,2009,2018,2020,2010,2010,1942,1981,1981,1981,1979,1979,1992,2015,2015,1991,1991,2018,1982,1971,1971,1971,1976,1976,2008,2008,1998,1962,1962,1962,1967,2018,1948,1948,1948,1971,1971,2000,2000,2000,1997,1997,1956,1956,1956,1961,1961,1964,1964,2010,1971,2006,2006,1995,1995,1973,1992,1971,1971,1986,1968,1968,1970,1970,1989,1990,1990,1978,1978,1978,2020,1985,1966,1966,1966,1988,1984,1985,1985,2000,1971,1988,2008,2008,2008,1972,1972,2011,2011,2011,2013,2013,2013,1998,2012,2013,2013,1970,1970,1968,1968,1972,1972,1972,2006,2006,2006,2009,2009,2009,1963,1963,1963,2018,1992,1992,1965,1965,2002,2002,2002,1981,1981,1981,1984,1984,1969,1969,2004,2004,2004,1979,1979,2003,1985,1985,2006,2006,2006,2018,2001,2017,2017,2017,1989,1989,1989,2011,2011,2013,2013,2012,1967,1967,1967,2019,2019,1972,1972,1972,2010,2010,2020,2011,2011,2011,1975,1975,1975,2011,1999,1999,2010,2010,2010,1986,1986,2004,2017,2017,2017,1954,1954,1954,2017,1957,2016,2016,2016,1949,1949,1998,1998,1998,1936,1957,2012,2012,2012,1935,1989,2015,2015,2015,2016,2005,2005,2018,2018,2018,2016,2008,2008,2008,2000,2000,2000,2019,2019,2004,2008,2008,2008,2002,2018,2001,2001,1989,1989,2006,2006,2016,2011,2011,2011,2016,2016,2016,1985,1997,1997,1998,1965,1965,1997,1997,1994,1994,1994,2000,2000,2000,2015,2015,1984,2014,2009,2016,2016,2016,1994,1994,1994,1987,1987,2019,2001,2001,2001,2013,2013,2017,2017,2017,1972,1972,1972,2008,2008,2011,2011,2011,2015,2015,2015,2013,2013,2013,2001,2001,2001,2015,1970,1970,1970,2021,2004,2004,2009,2021,1999,1999,1957,1957,1957,1975,1975,2007,2007,2007,2014,2014,2014,2004,2005,2005,1955,1955,1955,1997,1997,1997,1994,1994,1994,1996,1992,1992,1992,2007,2007,2007,1987,1987,1987,1961,1961,1961,2017,1979,1979,1979,1996,1996,1996,1974,1974,1952,2010,2008,2008,2008,1957,1957,1957,1987,2015,2015,2015,1964,1964,1964,2017,1977,1997,1997,1997,1997,1997,2015,2015,2020,2020,2020,2015,2015,2015,2016,2016,2016,2015,2015,2015,2017,2017,2017,2017,2019,2019,2018,2003,1986,1986,1986,1983,1983,1963,1963,1963,2001,2001,1992,2011,2011,2011,2004,2004,2008,2008,2008,1988,1977,1977,1977,2018,1988,2016,2016,2016,2014,2014,2014,2015,2016,2008,2014,2014,2003,2003,2008,2013,2013,2013,2021,2021,2003,2003,2003,2005,2012,2011,2011,2011,2011,2011,1955,1955,1955,1972,2003,2003,2014,2017,2017,2017,1999,1999,1999,1979,1979,1979,1993,1993,1993,1978,1978,1987,1987,1987,1978,1978,2004,2004,2004,2011,2011,2011,2013,2013,2013,1957,2004,2004,2004,2019,2019,2019,2004,2004,1992,1992,2017,1993,1993,1995,1995,1995,2017,2015,2018,2005,2005,2020,2020,2013,2013,2013,1984,1984,1984,2006,2006,2006,2016,2007,2008,2008,2011,2011,2011,2017,2010,1970,2010,2005,2005,2005,2012,2018,2018,2015,2015,2015,2011,2002,2002,2002,2004,2004,2004,1992,1976,1972,1972,1972,1991,1995,1995,1979,1979,1986,1986,1986,2005,2005,2016,2016,1987,1987,2017,2017,1991,1991,1977,1994,1994,1994,2013,2013,1989,1971,1968,1982,1982,1948,2000,2000,1954,1954,1954,1976,1976,1976,1986,1986,1967,1967,2021,1973,1973,2005,2005,2005,1979,1979,1943,1981,1981,1981,1962,1962,2006,2006,2006,2010,2010,2010,2009,2009,2009,1996,1996,1996,1982,1982,1982,1973,2018,2018,2018,2007,2007,2007,2018,1982,1982,2010,2010,2010,2014,2007,2007,2007,1969,1969,1969,2018,2018,2018,2007,2007,2007,1955,1981,1981,1991,1991,2017,1963,1940,1978,1978,1981,1981,1981,1997,1997,1997,1986,1986,1992,2013,2013,1986,1986,1954,1954,1954,1969,1969,2015,1957,1957,1957,2011,2011,1962,1951,1999,1955,1955,1979,1979,1953,1953,1957,1957,1957,2013,2013,2013,2005,1959,1959,1959,2018,2018,1956,1957,1957,1957,1978,1978,1978,1974,1974,1990,1971,1971,2001,2001,2001,2003,1990,2005,1995,1995,1995,1961,1961,1961,2021,2005,2005,2005,1946,1947,1947,1947,1968,1968,1968,1957,2003,1966,1966,2016,2016,2016,1980,1980,2007,2007,2007,1990,2014,2005,2005,2005,1966,1966,1956,1956,1956,1986,1986,2009,2009,2009,2017,2017,2015,2000,2000,1989,1989,1989,2017,2017,1958,1958,2015,2015,1996,1996,1996,1996,1996,1973,1973,2018,2018,2018,1974,2019,1938,2019,2011,1983,1983,1983,2007,1965,1980,1980,1989,1989,1989,1975,1975,1992,1992,1992,2005,2005,2005,2020,2020,2020,2011,2011,2011,2010,2010,2010,2007,2007,2007,2018,2021,2021,2017,2017,2017,1979,1979,1979,1967,1967,1967,2011,2011,2011,2019,2019,2011,2011,2019,2019,2018,2018,2018,1991,1991,1991,1990,1999,2020,2020,2020,2014,2014,2012,2008,2002,2018,2018,2019,2017,2019,2019,2006,1995,2008,2008,2017,2017,1988,2002,2002,2007,2007,2007,2017,2017,2017,2012,2012,2012,2006,2006,2006,2020,2020,2018,2018,2015,2010,2010,2010,2013,2013,2013,2001,2001,2001,2014,2014,2014,1971,1971,2019,2019,2019,2004,2018,2016,2016,2008,2008,1999,1999,1989,1989,1965,1965,1965,2013,2013,2013,2003,2003,1961,1961,1961,1968,1968,2020,2020,2020,2014,2014,2014,1977,1985,1985,1985,2015,2003,2003,2003,2012,2008,2008,2008,2015,2015,2019,2019,2019,2009,2009,2001,2012,2012,2012,2003,2003,1981,1981,1995,1995,2003,2003,2003,1988,1988,1988,1990,1988,2013,1984,2010,2010,1992,1992,1992,1985,2018,2018,1973,1985,2018,2018,2018,2005,1968,1968,1968,1941,2019,2019,2014,2014,2018,2018,2005,2021,2021,2020,2019,2019,2019,1977,1977,2005,2005,2005,1959,1959,2019,2019,2019,2018,1956,2004,2004,2004,1969,1969,1969,1984,2018,2019,2019,2019,1986,1986,1967,1967,1967,1977,1977,2018,2018,2018,1992,1992,1974,1974,1974,2018,2010,2010,2010,2008,2008,1958,1958,1992,1992,2020,2020,2019,2019,2019,2010,1996,2000,1953,1953,1996,1996,2010,2010,2010,2015,1987,1987,1987,1995,1994,1994,1994,1993,1993,1993,2014,2014,1971,1971,1963,1963,1963,2003,2003,1989,1989,2015,1972,1992,1992,1992,1997,1997,1997,1957,1957,1957,1970,2020,2018,2018,2018,2018,2018,1972,1972,1972,1989,1989,1989,1989,2005,2005,2005,1968,1968,2018,2018,2018,1985,2007,2007,2007,1984,1958,1958,1977,1977,1977,1971,1971,2003,2003,2003,2005,2005,1961,1961,2018,2018,2018,1985,1985,1993,2011,1971,1971,1971,1949,1949,2017,1985,1966,1966,1966,1978,1978,2019,2019,2014,2011,2011,1953,1980,2004,2013,2003,1974,1974,1991,1991,1991,1967,1967,1967,1970,1961,1980,1968,1968,1968,2010,2010,2010,1957,1957,1957,2009,2009,2008,2008,1995,1995,2012,2012,1986,1986,2010,2010,1993,1993,1993,2005,1993,1993,1993,1955,1955,1955,2008,2019,2017,2017,2017,1999,1999,1999,1987,1987,1987,1988,1988,1984,1984,1978,1978,1985,1973,1973,1973,2018,2018,2018,1978,1978,2015,2015,2015,2010,2010,2010,2013,2013,2011,2011,2011,2017,2017,2017,2017,2000,2000,2000,2006,2006,1974,2004,2018,1958,1958,2008,1993,1993,1980,1980,1980,2016,2016,2016,1945,1993,1993,1991,1991,1991,1966,1966,1966,1978,1978,1993,1964,1964,2008,2008,2008,2010,2010,2010,2013,2019,2019,2017,2017,2019,1984,1984,1966,2013,2013,1985,1985,1985,2016,2016,2015,2015,2003,1972,2016,2016,2016,2016,2017,2017,2002,2002,2021,2021,1972,1972,1972,1958,1958,1958,1985,1934,1934,2014,2014,2014,2014,2018,2018,2004,2004,2004,1993,1993,1993,2018,2012,2012,2012,2019,2019,2015,2015,1992,1992,1992,2004,2004,2004,1992,1990,1990,1993,2013,2013,2013,1995,1995,2004,2004,1964,1964,1964,1981,1965,1965,1965,2017,2017,2017,2004,2004,2004,1958,1958,2017,1973,2013,2013,2013,1991,1991,1991,2017,2003,2003,2019,2019,2019,2004,2019,2019,2006,1990,1990,2020,2020,2020,1987,1987,1987,1991,1991,1991,1991,2010,2010,1981,1994,1971,1971,1995,1995,1995,1998,1998,1992,1992,1992,1981,1937,1937,1937,1975,1975,1975,1974,1974,1974,1962,1962,1989,1989,1970,1970,1970,1991,1991,2015,2015,2015,1982,1982,1982,1974,1974,1983,1983,1994,1994,1996,1996,1996,1997,2004,2004,2004,2010,2010,2010,1997,1997,1997,1943,1997,2005,2005,2005,1978,1978,1978,1973,1973,1973,1962,1962,1962,1994,1981,1981,1981,2016,2018,2016,2016,2016,2003,2003,2003,1983,1983,1983,1983,1983,1983,1986,1986,1986,1970,1970,1984,1984,1984,1978,1978,1978,1989,2014,2014,1965,1965,1972,2002,2002,2002,2010,2010,2011,2011,2011,2015,2015,2015,1973,1993,1993,1987,1987,2019,2006,2006,2006,2003,2003,1998,1998,1998,1999,1999,1999,2005,2005,2005,1998,1998,1998,2001,2001,2001,2014,2001,2001,2001,1957,1957,1957,2002,2002,2003,1981,1981,1991,1991,1969,1992,1985,1985,1990,1990,1990,1990,1988,1988,1969,1969,1969,1969,1969,1969,1991,1986,1986,1987,1987,1987,1990,1990,1990,1987,1987,1987,1971,1971,1986,1986,1966,1966,2006,2006,2006,1985,1985,1985,1984,1975,1975,1975,1984,1984,2017,2017,2012,1988,1988,1988,2001,2001,1986,1986,1983,1983,1983,1988,1988,1988,2003,2003,2003,1998,1998,1998,2013,2013,2013,2009,2009,2009,1980,1980,1980,2013,2013,2013,2011,2011,2011,2017,2017,2017,1979,1979,2017,2017,2017,1958,1958,2019,1975,1975,1989,1989,1989,2007,2007,2007,1976,1972,1972,2013,2013,1995,1995,1972,1972,1992,2020,2020,2020,1967,1967,2021,2021,2009,2009,1987,1987,2010,2010,2010,1967,1967,1981,1981,1981,2002,2002,2002,2012,2012,2012,2016,2016,2016,2009,2009,2009,2018,2018,2018,2008,2008,2008,2013,2013,2008,2008,2008,2013,2013,2013,2018,2018,2018,1983,2018,1954,2021,2021,2021,2009,2009,2009,2017,2017,2017,1990,2008,2008,2008,2003,2003,1995,1995,2011,2011,2011,2014,2015,2015,2017,1969,1953,1978,2001,2018,2018,2018,2016,2016,1955,1955,1955,2019,2019,2015,2015,2004,2004,1956,1956,1956,1982,1982,1959,1995,1995,1995,2018,1968,1968,1968,1994,1994,1994,2003,2003,1952,1996,1996,1996,1997,1997,2000,2000,2000,2014,2014,1969,1999,1999,2013,2013,2013,2013,2013,1996,1996,1996,1964,1964,1964,2018,2018,2018,2010,2010,2010,1974,1974,1992,1951,1951,1936,1992,1992,1992,2000,2000,2000,1962,1962,1972,1972,1972,2004,2004,2010,2010,2010,2010,2010,2010,2012,1994,2019,1981,1981,1977,1996,1996,1984,1984,1984,2017,1967,1967,1967,1980,1980,1980,1977,2007,2007,2007,1995,1995,1995,2019,1989,1989,1989,1943,1943,1943,2017,2020,1984,1985,1985,1985,1985,2008,2008,2008,2010,2010,2010,2017,2017,2013,2013,2013,1988,1988,1988,2010,2010,2010,1991,1991,1991,2005,2005,2005,1985,2013,2013,2013,2019,2019,1944,2015,1996,1996,1996,2015,2017,1993,1993,1983,2006,2006,2006,1982,1982,1995,1995,1995,2019,2013,2013,2013,2017,2017,2017,2013,2013,1975,1975,1975,1959,1959,2019,2010,2010,2010,2015,2015,2015,2015,2015,2015,1986,1986,2007,2007,2007,2013,2013,2013,2011,2011,2011,2018,2018,2018,1944,1944,2004,1995,1995,1995,2011,2011,2011,2016,2016,2009,2009,2009,1980,1980,1980,2007,2007,2007,2007,2007,2007,2017,2018,2021,2000,2000,2000,2020,2006,2001,2001,2005,2007,2007,2019,1962,1962,1962,2019,1974,1974,1971,1971,1971,2002,1996,1996,1988,2018,2005,2001,2014,2014,2014,2017,2017,2010,2010,2010,1988,1979,2013,2013,2013,1965,1965,2002,2002,2007,2007,2007,2019,2014,2014,1972,2012,2012,2012,2014,2021,2002,2003,2009,2009,2009,2009,2009,2008,2008,2008,2019,2014,2014,2014,1995,1995,1995,2016,2016,2008,2008,2009,2009,1999,1999,2011,2011,2011,1981,1981,2006,2006,2006,2016,2016,2016,2005,2005,2005,2010,2010,2010,1988,2019,2019,2019,1991,2021,2021,1981,1981,1981,2015,1993,1993,1993,1970,1970,1970,2018,2018,1974,1974,1974,1942,1974,1974,1974,1990,1990,1990,2016,1992,1992,2012,2012,2012,2015,2015,2015,2008,2008,2008,1993,2004,2004,2004,1989,1989,1989,1997,2017,2017,2004,2004,2004,2015,2020,2020,2020,1962,1962,1962,2017,2017,2009,2009,2009,1991,1991,1991,2012,2012,1982,2016,2016,2016,1966,1966,1967,1967,1967,1964,1964,1964,1994,1994,2019,1985,1985,1985,1991,1991,1991,1978,1978,1978,1996,1996,1994,2016,2016,2016,1979,1979,2019,2019,2017,2017,2008,2016,2016,1984,2013,2013,2015,1969,1969,1969,1998,1998,2016,1982,1968,1968,1991,1991,1991,2002,2002,2002,1992,2015,2006,2006,2006,2007,2007,2007,1989,2003,2003,2003,1966,1966,1966,1975,1975,1975,1998,2020,2015,2015,1980,1980,1994,1994,2017,1995,1995,1995,1976,2003,1979,1979,1979,1970,1970,1970,1969,1969,1969,1989,1989,2017,2017,2006,1991,1991,1991,2020,2020,2012,2012,2012,1958,1968,1968,2010,2010,1983,1983,1970,1970,1951,1988,1958,1958,1996,1996,1996,2013,2013,2011,2011,2011,2018,2018,2018,2013,2013,2013,1981,2011,2011,2011,1962,1962,1993,1993,2021,2021,2021,1993,1993,1993,2002,2002,1969,1969,1969,1986,1982,1982,1982,1998,1998,1975,1975,2007,2007,1988,1988,2005,2005,2005,2017,2007,2007,2007,1989,1989,2017,1997,1980,1950,1972,1972,1972,1970,1998,1999,1999,1959,1959,1959,2003,2003,2003,2017,1979,1983,1983,1983,1961,1961,1961,1982,1982,1982,2014,2014,1958,1958,1958,1964,1964,1986,1986,1986,1997,1997,1997,1991,1991,2016,2016,2009,2009,2009,2016,2016,2016,2005,2021,2021,2021,2006,2006,1964,1964,1964,1952,1952,1952,1994,1994,1992,1992,1999,1999,1999,1950,1993,1993,1964,1964,1943,1943,1972,1972,1972,1985,2018,2018,2018,2009,2009,2009,2009,2009,1976,1976,1981,1981,1996,1940,1940,1982,1982,1937,2016,2016,2016,1993,1993,1989,1989,2002,2002,1975,1992,1992,1968,1996,1996,1996,1969,2018,1961,1961,1961,1966,1966,1966,1968,1968,2016,2016,2016,2016,2016,1993,1993,1993,2021,2021,2021,1996,1985,1999,1999,1979,1979,1950,1950,2017,1960,2006,2006,2005,2005,2005,2005,2017,2017,2017,2008,2008,2008,1979,1979,1986,1984,1984,1980,2019,2019,2008,2008,2011,2011,2011,2003,2003,1982,1982,1982,1998,1998,1998,2013,2013,2013,2013,1982,1982,1969,1978,1978,2000,2000,2018,2018,2018,1991,1991,2004,2004,1995,1973,1973,1991,1991,1991,1991,1991,1991,2001,1999,1996,1986,1982,1982,1982,1970,1970,1970,1966,1966,1979,1979,1979,2007,2007,2012,2020,2020,2020,1951,1951,2020,2019,2006,2006,2021,2021,2021,2019,2015,2015,2012,2017,2017,2021,2021,2019,2019,2019,2018,2018,2017,2017,1955,1972,1972,1972,2010,2010,2010,1994,1994,2005,2005,2005,1996,2020,2020,2019,2017,2006,2006,2006,1972,2019,2014,2014,2017,2017,2005,2006,2006,2006,2018,2021,2021,1980,1980,1980,2015,2015,2015,2010,2010,2010,2005,2005,1949,1949,1949,2005,2005,2005,2011,2011,2011,2015,2011,2011,2011,1948,1948,1965,1965,1965,2002,2002,2002,1988,1988,1953,2012,2012,1946,1946,1946,2006,2010,2010,1949,1974,1974,1974,2011,2011,2011,2006,1990,2011,2011,2011,2007,2007,2007,2020,2020,1965,1965,2002,2002,1982,1982,1982,1993,1993,1993,1947,2020,2020,1978,1978,1978,1998,1998,1961,1961,1961,1954,1954,2015,1974,1974,1990,1990,1990,2012,2012,2012,1976,1966,1966,1966,1976,1976,1976,1991,1991,1991,1984,1997,1984,1984,1984,1957,1957,1957,1970,1970,1976,2015,2015,2015,1984,2002,2002,2002,1981,1981,2019,1971,1971,1971,1969,1969,1986,1986,1986,2004,2004,1996,1996,1969,1969,1986,1986,1986,1982,2016,2016,2008,2008,2008,1950,1986,2011,1964,1947,2020,2020,1956,1956,1956,2017,1999,1990,1990,1990,2000,2000,1968,1968,2020,2020,2020,2000,2000,2000,1963,1963,1963,1991,1991,1953,2005,1979,1979,2020,2020,2012,1977,1977,2001,2001,2012,1989,1989,1989,2006,2006,2006,1985,1985,1985,1988,1988,1988,2016,2016,2016,2004,2004,2012,2012,2018,1961,1961,1992,1992,1992,1975,1975,1975,1999,1999,1999,2006,1988,2007,2007,2007,2013,2013,2013,1972,2010,2010,2016,2016,2013,2013,2013,2016,2016,2016,2009,2009,2013,2007,2007,2007,1981,1981,2013,2013,1955,1955,1955,1962,1962,1962,1971,1971,1971,2017,1993,1993,1985,1985,1960,1960,1960,1982,1982,1982,1968,1968,2013,2013,1983,1983,2017,2017,2020,2020,2020,2013,2013,2013,2017,2017,2017,2020,2004,2004,2004,2014,2019,2011,2011,1990,2013,2009,2009,2009,1999,1999,1989,1989,2004,2015,2021,2021,2005,1981,1981,1981,1999,1999,1999,2018,2018,2002,2002,2018,2018,2018,2017,2017,2017,2019,2019,2019,1987,1987,1960,1960,2015,2015,2008,2008,2008,2013,2013,2011,2011,2011,2019,2019,2014,2014,2014,1986,1986,1986,2005,2005,2005,2018,2018,1993,1993,1993,2007,2008,2005,2005,1980,1980,2007,2007,2007,2006,2016,2013,2013,2013,2012,2021,2021,2021,1973,1973,2000,2000,2000,1999,1999,2013,2013,2013,2002,2002,2002,2005,2005,2005,1948,1948,1985,1985,1985,1958,1958,2014,1998,1998,1998,1958,1958,1958,1979,1956,1956,1956,2009,2009,1964,2012,2012,2013,2013,2013,2014,2014,2019,2019,2019,1958,1958,1988,1988,2018,2018,2012,2012,2012,2018,2018,2020,2018,2018,2018,1988,1999,1999,2008,2008,2008,2013,2010,2010,2010,2011,2011,2008,2008,1983,1983,1983,1989,1989,2006,1982,2014,2013,2013,2013,2007,2007,2007,1999,1999,1968,1968,1968,1975,1975,2004,2004,1960,1960,2003,2003,2011,2011,2011,1989,1989,1989,2014,2014,2014,1956,1956,2007,2007,2012,1991,1991,2009,2009,2007,2007,2007,1961,2018,2018,2020,2020,1995,2009,2009,2009,1938,2010,2010,2010,2014,2012,2012,2012,2019,2019,2019,2003,2003,2003,2001,2001,2001,1954,1971,1971,1971,1966,1966,1966,2005,2005,2005,2005,2000,2000,2000,1979,1979,1979,1994,1994,1994,1968,1968,1986,1970,1970,2018,2018,1960,1960,2014,2014,2004,2004,2004,2000,2000,2016,2016,2016,2008,2008,2008,2018,2018,1983,1982,1982,1982,2006,2006,1979,1979,1979,2008,2008,2008,1949,1968,1968,1968,2013,2013,2013,2017,2017,1984,1984,2009,2004,2004,2004,2005,2016,1976,2003,2003,2003,2014,2019,2019,2013,2013,2013,2014,2014,2014,1994,1994,1987,1987,1987,2008,2008,2008,2002,2002,2002,1985,1985,1985,1966,1966,1966,1973,1973,2020,1979,1979,1979,1995,1995,1995,2014,2014,2014,1985,1985,1985,1992,1992,1987,2004,1977,2007,1982,1982,1990,1978,1978,1978,1986,1980,1980,1980,1983,1983,2017,2017,2017,2021,2021,2018,2007,2007,2007,1999,1999,1999,2020,2020,1995,1995,2004,2004,2004,1999,2013,2013,2013,2003,1990,1993,1993,1992,1992,1992,1986,1986,1986,1993,1993,2020,2020,1956,1956,2003,2003,2003,2005,2005,2005,1981,1981,2019,1995,1995,1995,1980,1958,2012,2012,2012,2003,2003,2003,1996,1996,1969,1969,2009,2009,2009,2020,2020,2020,2015,2015,2015,1988,1988,2014,2014,1998,1952,2015,2015,2015,1986,1972,1972,1972,1955,1955,2005,2005,2005,2020,2020,2020,2021,1943,1943,1943,2011,2011,2011,2015,2015,2015,1976,1976,2000,1967,1967,1990,1990,1990,1995,1995,1995,2019,2013,1979,1979,1984,1997,1997,1997,1995,1984,1984,1984,2000,2000,1995,1995,2019,1970,1965,1965,1965,1966,2002,2002,2002,2008,2008,2008,2008,2008,2006,2006,2006,2004,2004,2017,1985,1985,1985,1980,1980,1954,1954,1973,2006,2006,2006,1977,1977,1977,2016,2016,2016,2009,2009,1968,1973,1973,1973,1965,1965,2010,2010,2010,1965,1965,1965,1938,2016,2010,2010,1965,1965,1965,1994,1994,1982,1982,2006,2006,2006,1966,1966,1966,1966,1966,1966,2003,1994,1994,1985,2011,2011,2011,2005,2005,2005,2019,2017,2017,2000,2000,2009,2009,2009,2001,2015,2016,2016,2016,2010,2010,2016,1989,1963,1963,1963,2010,2001,2001,2001,2011,2011,2011,1971,1971,1996,1996,1996,2012,2012,2012,1978,2009,2009,1984,2018,2018,2014,2020,2020,2020,1982,1982,1985,1985,1985,2012,2012,2012,1993,1993,2016,2016,2016,2018,2015,2015,2015,1988,1988,1988,2012,2012,2012,2019,2019,1999,1999,1999,2002,2002,1990,1990,1990,1983,1983,2011,2009,2009,2020,2010,2010,2010,2016,2001,2001,2001,1979,1979,2019,2019,2005,2015,2015,1989,2014,2014,2014,2013,2013,2013,2016,2016,2016,2021,2021,2021,2005,2005,2005,2016,2016,2019,2019,2017,2017,2017,2013,1980,1980,1977,1977,1977,1976,1941,2007,2007,2007,2018,1988,1988,1988,2014,2011,2011,2011,2013,1995,1995,2017,2019,2019,2019,2009,1953,1953,2005,2005,2005,2010,2010,2010,2010,2010,2010,2017,2008,2015,2009,2009,2009,1994,1994,2017,2017,2017,2021,2021,2021,2014,2014,2014,2013,1979,1979,1979,2007,2019,2019,2019,2020,2020,2014,2014,2014,2003,2003,2003,2020,2019,2019,2017,2017,2020,2014,2014,2017,2011,2011,2010,2017,2018,2020,2006,2006,2006,2019,2016,2014,2014,2014,2002,2002,2002,2008,2008,2008,2019,2019,1931,1931,2013,2013,2014,2014,2014,2015,2015,2015,2013,2013,1994,1994,1995,2011,2011,2001,2001,1980,2007,2007,2007,2016,2018,2018,2015,2019,2019,2019,2021,2021,2021,2009,2000,2000,2000,1935,1935,2020,2017,2017,2017,2020,2000,2014,1952,1952,1952,2015,2015,2015,1992,1992,2014,2020,2019,2019,2019,2015,2015,2015,2015,1968,1968,2019,2019,2017,2015,2015,2015,1996,1996,1996,2009,2009,2009,2017,2019,2019,2019,2015,1980,1980,1970,1970,1970,2011,2007,2007,2007,2017,2017,2013,2010,2010,2010,2014,2014,2014,2015,2015,2010,2010,2010,2001,2001,2002,2002,2002,2009,2021,2021,2021,2021,2021,2018,2018,2013,2013,2015,2015,2014,2014,1967,1967,1967,2019,2019,2019,1981,1981,1981,1987,1987,2016,2016,1992,2008,2008,2008,1990,1990,1990,2017,2017,1980,1953,1953,1983,2018,2015,2009,2009,2009,1978,1978,1978,2018,2018,2016,2017,2017,2017,2014,2017,2015,2015,2015,2005,2021,2021,2019,1977,1992,1992,1992,1998,1998,1998,2018,2018,2014,2014,2014,2014,2014,2016,2016,2016,2000,2000,2000,2018,2018,2010,2010,1984,1984,1988,1988,2017,2017,2006,2006,2006,2018,1989,1989,1975,1975,1937,2010,2010,2010,1978,2016,2005,2005,2020,2020,2020,2019,2019,2019,2014,2014,2014,2019,1989,1989,2016,2016,2016,2007,2015,2015,2015,1998,1998,2016,2016,2011,2011,2011,2021,2021,1989,1989,1989,1985,1995,1995,1991,2014,2014,1988,1978,2011,1978,1978,1978,1985,1985,1985,1994,2020,1996,1996,1996,2017,2017,2021,2021,2021,2003,2015,2015,1971,1971,2008,2016,2016,2001,2001,1970,1970,2011,1990,1990,1990,2009,2009,2010,2010,2002,2002,2002,2004,2004,2004,2018,2018,2018,1982,1982,1978,2017,2017,2002,2002,2002,1957,1957,2004,2004,1969,1969,1969,1996,1996,2011,2011,2011,2017,2016,2016,2012,2013,1992,2017,2008,2008,2011,2017,1997,1997,1997,2010,2018,1976,1976,2016,2016,2016,2013,2013,2013,2008,2008,1959,1959,1959,1974,1974,2019,1975,2019,2019,2019,1970,1970,2006,2006,2006,1992,1992,1992,1982,2014,2014,2006,2006,2015,2015,2015,2007,2007,1980,2014,2014,2014,2014,2014,2014,1996,1996,2017,2019,2019,2019,2006,2006,2006,2020,2020,2019,1971,1967,1967,1967,2019,1955,1955,1955,2018,2018,2018,2019,2019,1970,1960,1960,1960,1989,1982,1982,1982,1963,1963,1963,1998,1998,2015,1984,1984,1984,2011,2011,1987,1987,2006,2006,2006,2004,2004,2015,2015,2020,2020,2020,2005,2005,2005,2009,2005,2005,2005,1968,1968,1968,1999,1999,1999,2004,2004,1955,1974,1974,2018,2018,2018,1988,1988,1988,1982,1982,1962,1962,1962,2006,2006,2006,1946,2000,2021,1992,1992,1992,1975,1989,1989,1989,2001,2011,2011,2010,2010,2010,1970,1970,1970,2001,2001,2008,2008,2008,1994,1994,2009,2017,2017,2017,1988,1988,1988,2016,2016,2016,2018,2018,2018,1995,1995,2019,1993,1975,2004,2004,2004,2011,2011,2011,1989,1989,1989,2008,2008,2008,2017,2017,2017,1989,1989,2012,2012,1972,1972,1972,2017,2017,2017,2009,2009,1982,1982,2006,1990,1986,2005,2009,1988,1988,1988,1994,1994,1994,1982,2011,2011,2011,1986,1986,1986,2009,2009,2020,1998,1998,1998,2017,2021,1997,1997,1997,2020,2020,1992,2005,2005,2008,2008,2008,1991,1991,1991,2011,2011,2011,2013,2013,2018,2018,1996,1992,1992,1992,2006,2006,2006,1998,1998,2018,2018,2010,2010,2010,2014,2014,2014,2002,2002,2002,1988,1972,1972,1972,2008,2008,2008,1985,1985,2016,1967,1967,1967,2015,2015,2016,2016,2016,1998,1998,1998,2013,2009,2009,2009,2017,2009,2009,2009,1984,1984,1984,2020,2020,1965,1965,1993,1993,1993,1988,1988,1988,1981,1981,1981,2005,2005,2005,2019,2019,2019,2013,2013,1981,1981,1954,1954,2013,2013,1975,1975,2016,2016,1987,1987,1987,2005,2016,2016,2016,2010,2010,2010,2006,2017,2015,2015,2007,2007,2015,2015,2015,2015,2015,2015,2020,2020,2020,2018,2018,2018,2020,2012,2012,2012,2018,2018,2008,2008,2009,2019,2006,2013,2013,2013,2009,2009,2009,2008,2008,1989,1989,1989,2018,1998,1998,1998,2017,2004,2018,2018,2011,2011,2019,2019,2012,2018,2018,2003,2003,2003,2020,2006,2006,1983,1983,1983,1964,1964,1964,2006,2006,2006,1974,2004,1989,2013,2013,2021,2003,2003,2020,2015,2015,2015,2003,2008,2008,2008,2014,2014,2014,1992,1992,2001,2001,2001,1984,2014,2014,1994,1994,1972,1972,1972,2020,2020,2020,2015,1981,1981,1981,2014,2014,1977,1985,2015,2020,1958,1958,1958,1969,1969,1969,2005,2005,2012,2012,2012,1992,1992,1992,2014,2001,2001,2013,2013,2018,2018,2018,1995,1995,1995,1996,2015,1975,1975,1975,1988,1988,2006,2011,2016,2016,2016,2020,1984,1984,2003,2003,2002,2002,1963,1963,2014,2014,2014,1994,1994,1994,2011,2011,1972,1972,2014,2014,2003,2017,2017,2017,2002,2002,2002,1999,1999,1999,2001,2013,2013,2013,2012,1980,2018,2002,2002,2002,2004,2004,2004,1996,1996,2001,2001,2001,1992,1963,1963,1963,2019,2019,2019,2011,2011,2011,2019,1982,1982,1982,1982,1982,1982,2001,2001,1966,1966,1966,2005,1977,1977,1997,1997,1997,1997,1997,1997,1991,1991,2016,2016,2014,2014,2001,2001,2018,2016,1985,1985,1985,2021,2021,2021,2004,2004,2004,1979,1979,1979,2008,2008,2008,1994,1994,1985,1985,1990,1990,1998,1988,1988,1994,1994,1994,1993,1993,1993,1993,1980,1980,1988,1988,1995,1995,1995,1977,1977,1977,1981,1981,1985,1985,1985,1994,1994,1994,2003,2003,2003,1972,1972,1972,1984,1984,1975,1975,2005,2005,1943,1973,1973,1973,2013,2013,2013,1993,1993,1993,2013,1983,1983,1983,1972,2014,2005,2005,2005,1974,1974,2018,2018,2018,1994,1994,2014,2014,2014,1964,1964,1997,1997,2013,2013,2013,1958,1958,1958,1960,2006,2006,2006,1975,1975,1986,1986,1964,1964,1964,1940,1976,1976,2000,2013,2013,1965,1988,1988,1988,2013,2002,2002,2011,2011,2012,2019,2000,2011,2011,2011,2018,1998,1998,1998,1975,1975,1975,2015,2001,2001,2001,1989,1989,1989,1999,1999,1998,1998],\"xaxis\":\"x\",\"yaxis\":\"y\",\"type\":\"histogram\"}],                        {\"template\":{\"data\":{\"histogram2dcontour\":[{\"type\":\"histogram2dcontour\",\"colorbar\":{\"outlinewidth\":0,\"ticks\":\"\"},\"colorscale\":[[0.0,\"#0d0887\"],[0.1111111111111111,\"#46039f\"],[0.2222222222222222,\"#7201a8\"],[0.3333333333333333,\"#9c179e\"],[0.4444444444444444,\"#bd3786\"],[0.5555555555555556,\"#d8576b\"],[0.6666666666666666,\"#ed7953\"],[0.7777777777777778,\"#fb9f3a\"],[0.8888888888888888,\"#fdca26\"],[1.0,\"#f0f921\"]]}],\"choropleth\":[{\"type\":\"choropleth\",\"colorbar\":{\"outlinewidth\":0,\"ticks\":\"\"}}],\"histogram2d\":[{\"type\":\"histogram2d\",\"colorbar\":{\"outlinewidth\":0,\"ticks\":\"\"},\"colorscale\":[[0.0,\"#0d0887\"],[0.1111111111111111,\"#46039f\"],[0.2222222222222222,\"#7201a8\"],[0.3333333333333333,\"#9c179e\"],[0.4444444444444444,\"#bd3786\"],[0.5555555555555556,\"#d8576b\"],[0.6666666666666666,\"#ed7953\"],[0.7777777777777778,\"#fb9f3a\"],[0.8888888888888888,\"#fdca26\"],[1.0,\"#f0f921\"]]}],\"heatmap\":[{\"type\":\"heatmap\",\"colorbar\":{\"outlinewidth\":0,\"ticks\":\"\"},\"colorscale\":[[0.0,\"#0d0887\"],[0.1111111111111111,\"#46039f\"],[0.2222222222222222,\"#7201a8\"],[0.3333333333333333,\"#9c179e\"],[0.4444444444444444,\"#bd3786\"],[0.5555555555555556,\"#d8576b\"],[0.6666666666666666,\"#ed7953\"],[0.7777777777777778,\"#fb9f3a\"],[0.8888888888888888,\"#fdca26\"],[1.0,\"#f0f921\"]]}],\"heatmapgl\":[{\"type\":\"heatmapgl\",\"colorbar\":{\"outlinewidth\":0,\"ticks\":\"\"},\"colorscale\":[[0.0,\"#0d0887\"],[0.1111111111111111,\"#46039f\"],[0.2222222222222222,\"#7201a8\"],[0.3333333333333333,\"#9c179e\"],[0.4444444444444444,\"#bd3786\"],[0.5555555555555556,\"#d8576b\"],[0.6666666666666666,\"#ed7953\"],[0.7777777777777778,\"#fb9f3a\"],[0.8888888888888888,\"#fdca26\"],[1.0,\"#f0f921\"]]}],\"contourcarpet\":[{\"type\":\"contourcarpet\",\"colorbar\":{\"outlinewidth\":0,\"ticks\":\"\"}}],\"contour\":[{\"type\":\"contour\",\"colorbar\":{\"outlinewidth\":0,\"ticks\":\"\"},\"colorscale\":[[0.0,\"#0d0887\"],[0.1111111111111111,\"#46039f\"],[0.2222222222222222,\"#7201a8\"],[0.3333333333333333,\"#9c179e\"],[0.4444444444444444,\"#bd3786\"],[0.5555555555555556,\"#d8576b\"],[0.6666666666666666,\"#ed7953\"],[0.7777777777777778,\"#fb9f3a\"],[0.8888888888888888,\"#fdca26\"],[1.0,\"#f0f921\"]]}],\"surface\":[{\"type\":\"surface\",\"colorbar\":{\"outlinewidth\":0,\"ticks\":\"\"},\"colorscale\":[[0.0,\"#0d0887\"],[0.1111111111111111,\"#46039f\"],[0.2222222222222222,\"#7201a8\"],[0.3333333333333333,\"#9c179e\"],[0.4444444444444444,\"#bd3786\"],[0.5555555555555556,\"#d8576b\"],[0.6666666666666666,\"#ed7953\"],[0.7777777777777778,\"#fb9f3a\"],[0.8888888888888888,\"#fdca26\"],[1.0,\"#f0f921\"]]}],\"mesh3d\":[{\"type\":\"mesh3d\",\"colorbar\":{\"outlinewidth\":0,\"ticks\":\"\"}}],\"scatter\":[{\"fillpattern\":{\"fillmode\":\"overlay\",\"size\":10,\"solidity\":0.2},\"type\":\"scatter\"}],\"parcoords\":[{\"type\":\"parcoords\",\"line\":{\"colorbar\":{\"outlinewidth\":0,\"ticks\":\"\"}}}],\"scatterpolargl\":[{\"type\":\"scatterpolargl\",\"marker\":{\"colorbar\":{\"outlinewidth\":0,\"ticks\":\"\"}}}],\"bar\":[{\"error_x\":{\"color\":\"#2a3f5f\"},\"error_y\":{\"color\":\"#2a3f5f\"},\"marker\":{\"line\":{\"color\":\"#E5ECF6\",\"width\":0.5},\"pattern\":{\"fillmode\":\"overlay\",\"size\":10,\"solidity\":0.2}},\"type\":\"bar\"}],\"scattergeo\":[{\"type\":\"scattergeo\",\"marker\":{\"colorbar\":{\"outlinewidth\":0,\"ticks\":\"\"}}}],\"scatterpolar\":[{\"type\":\"scatterpolar\",\"marker\":{\"colorbar\":{\"outlinewidth\":0,\"ticks\":\"\"}}}],\"histogram\":[{\"marker\":{\"pattern\":{\"fillmode\":\"overlay\",\"size\":10,\"solidity\":0.2}},\"type\":\"histogram\"}],\"scattergl\":[{\"type\":\"scattergl\",\"marker\":{\"colorbar\":{\"outlinewidth\":0,\"ticks\":\"\"}}}],\"scatter3d\":[{\"type\":\"scatter3d\",\"line\":{\"colorbar\":{\"outlinewidth\":0,\"ticks\":\"\"}},\"marker\":{\"colorbar\":{\"outlinewidth\":0,\"ticks\":\"\"}}}],\"scattermapbox\":[{\"type\":\"scattermapbox\",\"marker\":{\"colorbar\":{\"outlinewidth\":0,\"ticks\":\"\"}}}],\"scatterternary\":[{\"type\":\"scatterternary\",\"marker\":{\"colorbar\":{\"outlinewidth\":0,\"ticks\":\"\"}}}],\"scattercarpet\":[{\"type\":\"scattercarpet\",\"marker\":{\"colorbar\":{\"outlinewidth\":0,\"ticks\":\"\"}}}],\"carpet\":[{\"aaxis\":{\"endlinecolor\":\"#2a3f5f\",\"gridcolor\":\"white\",\"linecolor\":\"white\",\"minorgridcolor\":\"white\",\"startlinecolor\":\"#2a3f5f\"},\"baxis\":{\"endlinecolor\":\"#2a3f5f\",\"gridcolor\":\"white\",\"linecolor\":\"white\",\"minorgridcolor\":\"white\",\"startlinecolor\":\"#2a3f5f\"},\"type\":\"carpet\"}],\"table\":[{\"cells\":{\"fill\":{\"color\":\"#EBF0F8\"},\"line\":{\"color\":\"white\"}},\"header\":{\"fill\":{\"color\":\"#C8D4E3\"},\"line\":{\"color\":\"white\"}},\"type\":\"table\"}],\"barpolar\":[{\"marker\":{\"line\":{\"color\":\"#E5ECF6\",\"width\":0.5},\"pattern\":{\"fillmode\":\"overlay\",\"size\":10,\"solidity\":0.2}},\"type\":\"barpolar\"}],\"pie\":[{\"automargin\":true,\"type\":\"pie\"}]},\"layout\":{\"autotypenumbers\":\"strict\",\"colorway\":[\"#636efa\",\"#EF553B\",\"#00cc96\",\"#ab63fa\",\"#FFA15A\",\"#19d3f3\",\"#FF6692\",\"#B6E880\",\"#FF97FF\",\"#FECB52\"],\"font\":{\"color\":\"#2a3f5f\"},\"hovermode\":\"closest\",\"hoverlabel\":{\"align\":\"left\"},\"paper_bgcolor\":\"white\",\"plot_bgcolor\":\"#E5ECF6\",\"polar\":{\"bgcolor\":\"#E5ECF6\",\"angularaxis\":{\"gridcolor\":\"white\",\"linecolor\":\"white\",\"ticks\":\"\"},\"radialaxis\":{\"gridcolor\":\"white\",\"linecolor\":\"white\",\"ticks\":\"\"}},\"ternary\":{\"bgcolor\":\"#E5ECF6\",\"aaxis\":{\"gridcolor\":\"white\",\"linecolor\":\"white\",\"ticks\":\"\"},\"baxis\":{\"gridcolor\":\"white\",\"linecolor\":\"white\",\"ticks\":\"\"},\"caxis\":{\"gridcolor\":\"white\",\"linecolor\":\"white\",\"ticks\":\"\"}},\"coloraxis\":{\"colorbar\":{\"outlinewidth\":0,\"ticks\":\"\"}},\"colorscale\":{\"sequential\":[[0.0,\"#0d0887\"],[0.1111111111111111,\"#46039f\"],[0.2222222222222222,\"#7201a8\"],[0.3333333333333333,\"#9c179e\"],[0.4444444444444444,\"#bd3786\"],[0.5555555555555556,\"#d8576b\"],[0.6666666666666666,\"#ed7953\"],[0.7777777777777778,\"#fb9f3a\"],[0.8888888888888888,\"#fdca26\"],[1.0,\"#f0f921\"]],\"sequentialminus\":[[0.0,\"#0d0887\"],[0.1111111111111111,\"#46039f\"],[0.2222222222222222,\"#7201a8\"],[0.3333333333333333,\"#9c179e\"],[0.4444444444444444,\"#bd3786\"],[0.5555555555555556,\"#d8576b\"],[0.6666666666666666,\"#ed7953\"],[0.7777777777777778,\"#fb9f3a\"],[0.8888888888888888,\"#fdca26\"],[1.0,\"#f0f921\"]],\"diverging\":[[0,\"#8e0152\"],[0.1,\"#c51b7d\"],[0.2,\"#de77ae\"],[0.3,\"#f1b6da\"],[0.4,\"#fde0ef\"],[0.5,\"#f7f7f7\"],[0.6,\"#e6f5d0\"],[0.7,\"#b8e186\"],[0.8,\"#7fbc41\"],[0.9,\"#4d9221\"],[1,\"#276419\"]]},\"xaxis\":{\"gridcolor\":\"white\",\"linecolor\":\"white\",\"ticks\":\"\",\"title\":{\"standoff\":15},\"zerolinecolor\":\"white\",\"automargin\":true,\"zerolinewidth\":2},\"yaxis\":{\"gridcolor\":\"white\",\"linecolor\":\"white\",\"ticks\":\"\",\"title\":{\"standoff\":15},\"zerolinecolor\":\"white\",\"automargin\":true,\"zerolinewidth\":2},\"scene\":{\"xaxis\":{\"backgroundcolor\":\"#E5ECF6\",\"gridcolor\":\"white\",\"linecolor\":\"white\",\"showbackground\":true,\"ticks\":\"\",\"zerolinecolor\":\"white\",\"gridwidth\":2},\"yaxis\":{\"backgroundcolor\":\"#E5ECF6\",\"gridcolor\":\"white\",\"linecolor\":\"white\",\"showbackground\":true,\"ticks\":\"\",\"zerolinecolor\":\"white\",\"gridwidth\":2},\"zaxis\":{\"backgroundcolor\":\"#E5ECF6\",\"gridcolor\":\"white\",\"linecolor\":\"white\",\"showbackground\":true,\"ticks\":\"\",\"zerolinecolor\":\"white\",\"gridwidth\":2}},\"shapedefaults\":{\"line\":{\"color\":\"#2a3f5f\"}},\"annotationdefaults\":{\"arrowcolor\":\"#2a3f5f\",\"arrowhead\":0,\"arrowwidth\":1},\"geo\":{\"bgcolor\":\"white\",\"landcolor\":\"#E5ECF6\",\"subunitcolor\":\"white\",\"showland\":true,\"showlakes\":true,\"lakecolor\":\"white\"},\"title\":{\"x\":0.05},\"mapbox\":{\"style\":\"light\"}}},\"xaxis\":{\"anchor\":\"y\",\"domain\":[0.0,1.0],\"title\":{\"text\":\"Year\"}},\"yaxis\":{\"anchor\":\"x\",\"domain\":[0.0,1.0],\"title\":{\"text\":\"probability\"}},\"legend\":{\"tracegroupgap\":0},\"margin\":{\"t\":60},\"barmode\":\"relative\"},                        {\"responsive\": true}                    ).then(function(){\n",
              "                            \n",
              "var gd = document.getElementById('020a26d0-650e-45ff-8503-37c038046140');\n",
              "var x = new MutationObserver(function (mutations, observer) {{\n",
              "        var display = window.getComputedStyle(gd).display;\n",
              "        if (!display || display === 'none') {{\n",
              "            console.log([gd, 'removed!']);\n",
              "            Plotly.purge(gd);\n",
              "            observer.disconnect();\n",
              "        }}\n",
              "}});\n",
              "\n",
              "// Listen for the removal of the full notebook cells\n",
              "var notebookContainer = gd.closest('#notebook-container');\n",
              "if (notebookContainer) {{\n",
              "    x.observe(notebookContainer, {childList: true});\n",
              "}}\n",
              "\n",
              "// Listen for the clearing of the current output cell\n",
              "var outputEl = gd.closest('.output');\n",
              "if (outputEl) {{\n",
              "    x.observe(outputEl, {childList: true});\n",
              "}}\n",
              "\n",
              "                        })                };                            </script>        </div>\n",
              "</body>\n",
              "</html>"
            ]
          },
          "metadata": {}
        }
      ]
    },
    {
      "cell_type": "code",
      "source": [
        "avg_rating_by_year=data.groupby(['Year','Genre'])['Rating'].mean().reset_index()\n",
        "top_genres=data['Genre'].value_counts().head(10).index\n",
        "average_rating_by_year=avg_rating_by_year[avg_rating_by_year['Genre'].isin(top_genres)]\n",
        "fig=px.line(avg_rating_by_year,x='Year',y='Rating',color='Genre')\n",
        "fig.update_layout(title='Average Rating by Year and Genre',xaxis_title='Year',yaxis_title='Average Rating')\n",
        "fig.show()"
      ],
      "metadata": {
        "id": "6qEwwNxxyKwS",
        "outputId": "6f5ffad3-9165-47f1-c586-c97e626dc363",
        "colab": {
          "base_uri": "https://localhost:8080/",
          "height": 542
        }
      },
      "id": "6qEwwNxxyKwS",
      "execution_count": 38,
      "outputs": [
        {
          "output_type": "display_data",
          "data": {
            "text/html": [
              "<html>\n",
              "<head><meta charset=\"utf-8\" /></head>\n",
              "<body>\n",
              "    <div>            <script src=\"https://cdnjs.cloudflare.com/ajax/libs/mathjax/2.7.5/MathJax.js?config=TeX-AMS-MML_SVG\"></script><script type=\"text/javascript\">if (window.MathJax && window.MathJax.Hub && window.MathJax.Hub.Config) {window.MathJax.Hub.Config({SVG: {font: \"STIX-Web\"}});}</script>                <script type=\"text/javascript\">window.PlotlyConfig = {MathJaxConfig: 'local'};</script>\n",
              "        <script charset=\"utf-8\" src=\"https://cdn.plot.ly/plotly-2.35.2.min.js\"></script>                <div id=\"9b7cffc4-db4b-4d5c-ab1b-9867d4503aa4\" class=\"plotly-graph-div\" style=\"height:525px; width:100%;\"></div>            <script type=\"text/javascript\">                                    window.PLOTLYENV=window.PLOTLYENV || {};                                    if (document.getElementById(\"9b7cffc4-db4b-4d5c-ab1b-9867d4503aa4\")) {                    Plotly.newPlot(                        \"9b7cffc4-db4b-4d5c-ab1b-9867d4503aa4\",                        [{\"hovertemplate\":\"Genre=Unknown\\u003cbr\\u003eYear=%{x}\\u003cbr\\u003eRating=%{y}\\u003cextra\\u003e\\u003c\\u002fextra\\u003e\",\"legendgroup\":\"Unknown\",\"line\":{\"color\":\"#636efa\",\"dash\":\"solid\"},\"marker\":{\"symbol\":\"circle\"},\"mode\":\"lines\",\"name\":\"Unknown\",\"orientation\":\"v\",\"showlegend\":true,\"x\":[1931,1932,1933,1934,1935,1936,1937,1938,1939,1940,1941,1942,1943,1944,1945,1946,1947,1948,1949,1950,1951,1952,1953,1954,1955,1956,1957,1958,1959,1960,1961,1962,1963,1964,1965,1966,1967,1968,1969,1970,1971,1972,1973,1974,1975,1976,1977,1978,1979,1980,1981,1982,1983,1984,1985,1986,1987,1988,1989,1990,1991,1992,1993,1994,1995,1996,1997,1998,1999,2000,2001,2002,2003,2004,2005,2006,2007,2008,2009,2010,2011,2012,2013,2014,2015,2016,2017,2018,2019,2020,2021],\"xaxis\":\"x\",\"y\":[5.8999999999999995,6.0,6.2,4.633333333333334,5.5,6.04,6.0,5.966666666666666,6.5,6.944444444444445,6.58,6.69,6.953846153846154,7.114285714285714,6.459999999999999,6.954545454545454,6.854545454545455,6.916666666666667,6.982142857142857,6.880645161290323,6.867857142857143,7.229411764705882,7.031428571428571,6.560869565217391,6.870491803278689,6.544680851063831,7.11060606060606,6.586363636363636,6.692156862745098,6.888524590163934,6.7603448275862075,6.621428571428571,6.474242424242425,6.6726190476190474,6.720000000000001,6.63,6.582999999999999,6.485321100917431,6.437373737373737,6.64950495049505,6.681081081081081,6.33728813559322,6.44368932038835,6.657894736842105,6.524561403508772,6.368367346938776,6.348031496062992,6.530392156862745,6.467213114754099,6.466666666666667,6.474324324324325,6.459124087591241,6.393548387096774,6.026016260162602,6.0981250000000005,6.176258992805756,5.73921568627451,5.8589552238805975,5.691758241758242,5.543506493506494,5.438709677419355,5.6499999999999995,5.433505154639175,5.3857954545454545,5.2680272108843536,5.389032258064516,5.519254658385093,5.508484848484849,5.393103448275862,5.22972972972973,5.513197969543147,5.3152380952380955,5.226938775510204,5.083127572016461,5.464214046822742,5.265476190476191,5.527857142857143,5.363837638376383,5.409893992932862,5.445538461538462,5.491475409836066,5.66027397260274,5.681283422459893,5.577286135693216,5.794617563739377,5.902305475504322,5.979569892473118,6.077094972067039,6.199290780141844,6.015750915750916,6.255371900826446],\"yaxis\":\"y\",\"type\":\"scatter\"}],                        {\"template\":{\"data\":{\"histogram2dcontour\":[{\"type\":\"histogram2dcontour\",\"colorbar\":{\"outlinewidth\":0,\"ticks\":\"\"},\"colorscale\":[[0.0,\"#0d0887\"],[0.1111111111111111,\"#46039f\"],[0.2222222222222222,\"#7201a8\"],[0.3333333333333333,\"#9c179e\"],[0.4444444444444444,\"#bd3786\"],[0.5555555555555556,\"#d8576b\"],[0.6666666666666666,\"#ed7953\"],[0.7777777777777778,\"#fb9f3a\"],[0.8888888888888888,\"#fdca26\"],[1.0,\"#f0f921\"]]}],\"choropleth\":[{\"type\":\"choropleth\",\"colorbar\":{\"outlinewidth\":0,\"ticks\":\"\"}}],\"histogram2d\":[{\"type\":\"histogram2d\",\"colorbar\":{\"outlinewidth\":0,\"ticks\":\"\"},\"colorscale\":[[0.0,\"#0d0887\"],[0.1111111111111111,\"#46039f\"],[0.2222222222222222,\"#7201a8\"],[0.3333333333333333,\"#9c179e\"],[0.4444444444444444,\"#bd3786\"],[0.5555555555555556,\"#d8576b\"],[0.6666666666666666,\"#ed7953\"],[0.7777777777777778,\"#fb9f3a\"],[0.8888888888888888,\"#fdca26\"],[1.0,\"#f0f921\"]]}],\"heatmap\":[{\"type\":\"heatmap\",\"colorbar\":{\"outlinewidth\":0,\"ticks\":\"\"},\"colorscale\":[[0.0,\"#0d0887\"],[0.1111111111111111,\"#46039f\"],[0.2222222222222222,\"#7201a8\"],[0.3333333333333333,\"#9c179e\"],[0.4444444444444444,\"#bd3786\"],[0.5555555555555556,\"#d8576b\"],[0.6666666666666666,\"#ed7953\"],[0.7777777777777778,\"#fb9f3a\"],[0.8888888888888888,\"#fdca26\"],[1.0,\"#f0f921\"]]}],\"heatmapgl\":[{\"type\":\"heatmapgl\",\"colorbar\":{\"outlinewidth\":0,\"ticks\":\"\"},\"colorscale\":[[0.0,\"#0d0887\"],[0.1111111111111111,\"#46039f\"],[0.2222222222222222,\"#7201a8\"],[0.3333333333333333,\"#9c179e\"],[0.4444444444444444,\"#bd3786\"],[0.5555555555555556,\"#d8576b\"],[0.6666666666666666,\"#ed7953\"],[0.7777777777777778,\"#fb9f3a\"],[0.8888888888888888,\"#fdca26\"],[1.0,\"#f0f921\"]]}],\"contourcarpet\":[{\"type\":\"contourcarpet\",\"colorbar\":{\"outlinewidth\":0,\"ticks\":\"\"}}],\"contour\":[{\"type\":\"contour\",\"colorbar\":{\"outlinewidth\":0,\"ticks\":\"\"},\"colorscale\":[[0.0,\"#0d0887\"],[0.1111111111111111,\"#46039f\"],[0.2222222222222222,\"#7201a8\"],[0.3333333333333333,\"#9c179e\"],[0.4444444444444444,\"#bd3786\"],[0.5555555555555556,\"#d8576b\"],[0.6666666666666666,\"#ed7953\"],[0.7777777777777778,\"#fb9f3a\"],[0.8888888888888888,\"#fdca26\"],[1.0,\"#f0f921\"]]}],\"surface\":[{\"type\":\"surface\",\"colorbar\":{\"outlinewidth\":0,\"ticks\":\"\"},\"colorscale\":[[0.0,\"#0d0887\"],[0.1111111111111111,\"#46039f\"],[0.2222222222222222,\"#7201a8\"],[0.3333333333333333,\"#9c179e\"],[0.4444444444444444,\"#bd3786\"],[0.5555555555555556,\"#d8576b\"],[0.6666666666666666,\"#ed7953\"],[0.7777777777777778,\"#fb9f3a\"],[0.8888888888888888,\"#fdca26\"],[1.0,\"#f0f921\"]]}],\"mesh3d\":[{\"type\":\"mesh3d\",\"colorbar\":{\"outlinewidth\":0,\"ticks\":\"\"}}],\"scatter\":[{\"fillpattern\":{\"fillmode\":\"overlay\",\"size\":10,\"solidity\":0.2},\"type\":\"scatter\"}],\"parcoords\":[{\"type\":\"parcoords\",\"line\":{\"colorbar\":{\"outlinewidth\":0,\"ticks\":\"\"}}}],\"scatterpolargl\":[{\"type\":\"scatterpolargl\",\"marker\":{\"colorbar\":{\"outlinewidth\":0,\"ticks\":\"\"}}}],\"bar\":[{\"error_x\":{\"color\":\"#2a3f5f\"},\"error_y\":{\"color\":\"#2a3f5f\"},\"marker\":{\"line\":{\"color\":\"#E5ECF6\",\"width\":0.5},\"pattern\":{\"fillmode\":\"overlay\",\"size\":10,\"solidity\":0.2}},\"type\":\"bar\"}],\"scattergeo\":[{\"type\":\"scattergeo\",\"marker\":{\"colorbar\":{\"outlinewidth\":0,\"ticks\":\"\"}}}],\"scatterpolar\":[{\"type\":\"scatterpolar\",\"marker\":{\"colorbar\":{\"outlinewidth\":0,\"ticks\":\"\"}}}],\"histogram\":[{\"marker\":{\"pattern\":{\"fillmode\":\"overlay\",\"size\":10,\"solidity\":0.2}},\"type\":\"histogram\"}],\"scattergl\":[{\"type\":\"scattergl\",\"marker\":{\"colorbar\":{\"outlinewidth\":0,\"ticks\":\"\"}}}],\"scatter3d\":[{\"type\":\"scatter3d\",\"line\":{\"colorbar\":{\"outlinewidth\":0,\"ticks\":\"\"}},\"marker\":{\"colorbar\":{\"outlinewidth\":0,\"ticks\":\"\"}}}],\"scattermapbox\":[{\"type\":\"scattermapbox\",\"marker\":{\"colorbar\":{\"outlinewidth\":0,\"ticks\":\"\"}}}],\"scatterternary\":[{\"type\":\"scatterternary\",\"marker\":{\"colorbar\":{\"outlinewidth\":0,\"ticks\":\"\"}}}],\"scattercarpet\":[{\"type\":\"scattercarpet\",\"marker\":{\"colorbar\":{\"outlinewidth\":0,\"ticks\":\"\"}}}],\"carpet\":[{\"aaxis\":{\"endlinecolor\":\"#2a3f5f\",\"gridcolor\":\"white\",\"linecolor\":\"white\",\"minorgridcolor\":\"white\",\"startlinecolor\":\"#2a3f5f\"},\"baxis\":{\"endlinecolor\":\"#2a3f5f\",\"gridcolor\":\"white\",\"linecolor\":\"white\",\"minorgridcolor\":\"white\",\"startlinecolor\":\"#2a3f5f\"},\"type\":\"carpet\"}],\"table\":[{\"cells\":{\"fill\":{\"color\":\"#EBF0F8\"},\"line\":{\"color\":\"white\"}},\"header\":{\"fill\":{\"color\":\"#C8D4E3\"},\"line\":{\"color\":\"white\"}},\"type\":\"table\"}],\"barpolar\":[{\"marker\":{\"line\":{\"color\":\"#E5ECF6\",\"width\":0.5},\"pattern\":{\"fillmode\":\"overlay\",\"size\":10,\"solidity\":0.2}},\"type\":\"barpolar\"}],\"pie\":[{\"automargin\":true,\"type\":\"pie\"}]},\"layout\":{\"autotypenumbers\":\"strict\",\"colorway\":[\"#636efa\",\"#EF553B\",\"#00cc96\",\"#ab63fa\",\"#FFA15A\",\"#19d3f3\",\"#FF6692\",\"#B6E880\",\"#FF97FF\",\"#FECB52\"],\"font\":{\"color\":\"#2a3f5f\"},\"hovermode\":\"closest\",\"hoverlabel\":{\"align\":\"left\"},\"paper_bgcolor\":\"white\",\"plot_bgcolor\":\"#E5ECF6\",\"polar\":{\"bgcolor\":\"#E5ECF6\",\"angularaxis\":{\"gridcolor\":\"white\",\"linecolor\":\"white\",\"ticks\":\"\"},\"radialaxis\":{\"gridcolor\":\"white\",\"linecolor\":\"white\",\"ticks\":\"\"}},\"ternary\":{\"bgcolor\":\"#E5ECF6\",\"aaxis\":{\"gridcolor\":\"white\",\"linecolor\":\"white\",\"ticks\":\"\"},\"baxis\":{\"gridcolor\":\"white\",\"linecolor\":\"white\",\"ticks\":\"\"},\"caxis\":{\"gridcolor\":\"white\",\"linecolor\":\"white\",\"ticks\":\"\"}},\"coloraxis\":{\"colorbar\":{\"outlinewidth\":0,\"ticks\":\"\"}},\"colorscale\":{\"sequential\":[[0.0,\"#0d0887\"],[0.1111111111111111,\"#46039f\"],[0.2222222222222222,\"#7201a8\"],[0.3333333333333333,\"#9c179e\"],[0.4444444444444444,\"#bd3786\"],[0.5555555555555556,\"#d8576b\"],[0.6666666666666666,\"#ed7953\"],[0.7777777777777778,\"#fb9f3a\"],[0.8888888888888888,\"#fdca26\"],[1.0,\"#f0f921\"]],\"sequentialminus\":[[0.0,\"#0d0887\"],[0.1111111111111111,\"#46039f\"],[0.2222222222222222,\"#7201a8\"],[0.3333333333333333,\"#9c179e\"],[0.4444444444444444,\"#bd3786\"],[0.5555555555555556,\"#d8576b\"],[0.6666666666666666,\"#ed7953\"],[0.7777777777777778,\"#fb9f3a\"],[0.8888888888888888,\"#fdca26\"],[1.0,\"#f0f921\"]],\"diverging\":[[0,\"#8e0152\"],[0.1,\"#c51b7d\"],[0.2,\"#de77ae\"],[0.3,\"#f1b6da\"],[0.4,\"#fde0ef\"],[0.5,\"#f7f7f7\"],[0.6,\"#e6f5d0\"],[0.7,\"#b8e186\"],[0.8,\"#7fbc41\"],[0.9,\"#4d9221\"],[1,\"#276419\"]]},\"xaxis\":{\"gridcolor\":\"white\",\"linecolor\":\"white\",\"ticks\":\"\",\"title\":{\"standoff\":15},\"zerolinecolor\":\"white\",\"automargin\":true,\"zerolinewidth\":2},\"yaxis\":{\"gridcolor\":\"white\",\"linecolor\":\"white\",\"ticks\":\"\",\"title\":{\"standoff\":15},\"zerolinecolor\":\"white\",\"automargin\":true,\"zerolinewidth\":2},\"scene\":{\"xaxis\":{\"backgroundcolor\":\"#E5ECF6\",\"gridcolor\":\"white\",\"linecolor\":\"white\",\"showbackground\":true,\"ticks\":\"\",\"zerolinecolor\":\"white\",\"gridwidth\":2},\"yaxis\":{\"backgroundcolor\":\"#E5ECF6\",\"gridcolor\":\"white\",\"linecolor\":\"white\",\"showbackground\":true,\"ticks\":\"\",\"zerolinecolor\":\"white\",\"gridwidth\":2},\"zaxis\":{\"backgroundcolor\":\"#E5ECF6\",\"gridcolor\":\"white\",\"linecolor\":\"white\",\"showbackground\":true,\"ticks\":\"\",\"zerolinecolor\":\"white\",\"gridwidth\":2}},\"shapedefaults\":{\"line\":{\"color\":\"#2a3f5f\"}},\"annotationdefaults\":{\"arrowcolor\":\"#2a3f5f\",\"arrowhead\":0,\"arrowwidth\":1},\"geo\":{\"bgcolor\":\"white\",\"landcolor\":\"#E5ECF6\",\"subunitcolor\":\"white\",\"showland\":true,\"showlakes\":true,\"lakecolor\":\"white\"},\"title\":{\"x\":0.05},\"mapbox\":{\"style\":\"light\"}}},\"xaxis\":{\"anchor\":\"y\",\"domain\":[0.0,1.0],\"title\":{\"text\":\"Year\"}},\"yaxis\":{\"anchor\":\"x\",\"domain\":[0.0,1.0],\"title\":{\"text\":\"Average Rating\"}},\"legend\":{\"title\":{\"text\":\"Genre\"},\"tracegroupgap\":0},\"margin\":{\"t\":60},\"title\":{\"text\":\"Average Rating by Year and Genre\"}},                        {\"responsive\": true}                    ).then(function(){\n",
              "                            \n",
              "var gd = document.getElementById('9b7cffc4-db4b-4d5c-ab1b-9867d4503aa4');\n",
              "var x = new MutationObserver(function (mutations, observer) {{\n",
              "        var display = window.getComputedStyle(gd).display;\n",
              "        if (!display || display === 'none') {{\n",
              "            console.log([gd, 'removed!']);\n",
              "            Plotly.purge(gd);\n",
              "            observer.disconnect();\n",
              "        }}\n",
              "}});\n",
              "\n",
              "// Listen for the removal of the full notebook cells\n",
              "var notebookContainer = gd.closest('#notebook-container');\n",
              "if (notebookContainer) {{\n",
              "    x.observe(notebookContainer, {childList: true});\n",
              "}}\n",
              "\n",
              "// Listen for the clearing of the current output cell\n",
              "var outputEl = gd.closest('.output');\n",
              "if (outputEl) {{\n",
              "    x.observe(outputEl, {childList: true});\n",
              "}}\n",
              "\n",
              "                        })                };                            </script>        </div>\n",
              "</body>\n",
              "</html>"
            ]
          },
          "metadata": {}
        }
      ]
    },
    {
      "cell_type": "code",
      "source": [],
      "metadata": {
        "id": "DJr1PIqY0f0i"
      },
      "id": "DJr1PIqY0f0i",
      "execution_count": null,
      "outputs": []
    }
  ],
  "metadata": {
    "kernelspec": {
      "display_name": "Python 3 (ipykernel)",
      "language": "python",
      "name": "python3"
    },
    "language_info": {
      "codemirror_mode": {
        "name": "ipython",
        "version": 3
      },
      "file_extension": ".py",
      "mimetype": "text/x-python",
      "name": "python",
      "nbconvert_exporter": "python",
      "pygments_lexer": "ipython3",
      "version": "3.11.5"
    },
    "colab": {
      "provenance": []
    }
  },
  "nbformat": 4,
  "nbformat_minor": 5
}